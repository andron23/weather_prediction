{
  "nbformat": 4,
  "nbformat_minor": 0,
  "metadata": {
    "colab": {
      "name": "Weather forecast.ipynb",
      "provenance": [],
      "collapsed_sections": []
    },
    "kernelspec": {
      "name": "python3",
      "display_name": "Python 3"
    },
    "accelerator": "GPU"
  },
  "cells": [
    {
      "cell_type": "code",
      "metadata": {
        "id": "AArRZFKopHXa"
      },
      "source": [
        "import numpy as np\r\n",
        "import matplotlib.pyplot as plt\r\n",
        "import pandas as pd"
      ],
      "execution_count": 4,
      "outputs": []
    },
    {
      "cell_type": "code",
      "metadata": {
        "colab": {
          "base_uri": "https://localhost:8080/"
        },
        "id": "V6XTfcYUpcfW",
        "outputId": "a250f7bc-28f8-47cb-c094-fb382e59e89a"
      },
      "source": [
        "cd weather/"
      ],
      "execution_count": 11,
      "outputs": [
        {
          "output_type": "stream",
          "text": [
            "/content/weather\n"
          ],
          "name": "stdout"
        }
      ]
    },
    {
      "cell_type": "code",
      "metadata": {
        "id": "XWbUM3CupTmf"
      },
      "source": [
        "dataset = pd.read_csv('training.csv', sep = '\\t')"
      ],
      "execution_count": 204,
      "outputs": []
    },
    {
      "cell_type": "code",
      "metadata": {
        "colab": {
          "base_uri": "https://localhost:8080/",
          "height": 419
        },
        "id": "tPRbaHtypocS",
        "outputId": "039c4a3e-8d38-4a30-d383-b4e360a244db"
      },
      "source": [
        "dataset"
      ],
      "execution_count": 15,
      "outputs": [
        {
          "output_type": "execute_result",
          "data": {
            "text/html": [
              "<div>\n",
              "<style scoped>\n",
              "    .dataframe tbody tr th:only-of-type {\n",
              "        vertical-align: middle;\n",
              "    }\n",
              "\n",
              "    .dataframe tbody tr th {\n",
              "        vertical-align: top;\n",
              "    }\n",
              "\n",
              "    .dataframe thead th {\n",
              "        text-align: right;\n",
              "    }\n",
              "</style>\n",
              "<table border=\"1\" class=\"dataframe\">\n",
              "  <thead>\n",
              "    <tr style=\"text-align: right;\">\n",
              "      <th></th>\n",
              "      <th>Date time</th>\n",
              "      <th>Temperature</th>\n",
              "    </tr>\n",
              "  </thead>\n",
              "  <tbody>\n",
              "    <tr>\n",
              "      <th>0</th>\n",
              "      <td>01/01/2011</td>\n",
              "      <td>68.9</td>\n",
              "    </tr>\n",
              "    <tr>\n",
              "      <th>1</th>\n",
              "      <td>01/02/2011</td>\n",
              "      <td>66.4</td>\n",
              "    </tr>\n",
              "    <tr>\n",
              "      <th>2</th>\n",
              "      <td>01/03/2011</td>\n",
              "      <td>68.7</td>\n",
              "    </tr>\n",
              "    <tr>\n",
              "      <th>3</th>\n",
              "      <td>01/04/2011</td>\n",
              "      <td>71.4</td>\n",
              "    </tr>\n",
              "    <tr>\n",
              "      <th>4</th>\n",
              "      <td>01/05/2011</td>\n",
              "      <td>69.3</td>\n",
              "    </tr>\n",
              "    <tr>\n",
              "      <th>...</th>\n",
              "      <td>...</td>\n",
              "      <td>...</td>\n",
              "    </tr>\n",
              "    <tr>\n",
              "      <th>3098</th>\n",
              "      <td>06/26/2019</td>\n",
              "      <td>75.7</td>\n",
              "    </tr>\n",
              "    <tr>\n",
              "      <th>3099</th>\n",
              "      <td>06/27/2019</td>\n",
              "      <td>75.0</td>\n",
              "    </tr>\n",
              "    <tr>\n",
              "      <th>3100</th>\n",
              "      <td>06/28/2019</td>\n",
              "      <td>72.7</td>\n",
              "    </tr>\n",
              "    <tr>\n",
              "      <th>3101</th>\n",
              "      <td>06/29/2019</td>\n",
              "      <td>71.0</td>\n",
              "    </tr>\n",
              "    <tr>\n",
              "      <th>3102</th>\n",
              "      <td>06/30/2019</td>\n",
              "      <td>70.8</td>\n",
              "    </tr>\n",
              "  </tbody>\n",
              "</table>\n",
              "<p>3071 rows × 2 columns</p>\n",
              "</div>"
            ],
            "text/plain": [
              "       Date time  Temperature\n",
              "0     01/01/2011         68.9\n",
              "1     01/02/2011         66.4\n",
              "2     01/03/2011         68.7\n",
              "3     01/04/2011         71.4\n",
              "4     01/05/2011         69.3\n",
              "...          ...          ...\n",
              "3098  06/26/2019         75.7\n",
              "3099  06/27/2019         75.0\n",
              "3100  06/28/2019         72.7\n",
              "3101  06/29/2019         71.0\n",
              "3102  06/30/2019         70.8\n",
              "\n",
              "[3071 rows x 2 columns]"
            ]
          },
          "metadata": {
            "tags": []
          },
          "execution_count": 15
        }
      ]
    },
    {
      "cell_type": "code",
      "metadata": {
        "id": "OcSFZGYZppo4"
      },
      "source": [
        "dataset = dataset.dropna(subset=[\"Temperature\"])"
      ],
      "execution_count": 205,
      "outputs": []
    },
    {
      "cell_type": "code",
      "metadata": {
        "id": "ZzzxtHm0qiT6"
      },
      "source": [
        "dataset=dataset.reset_index(drop=True)"
      ],
      "execution_count": 206,
      "outputs": []
    },
    {
      "cell_type": "code",
      "metadata": {
        "id": "bDTxAVXBqnYG"
      },
      "source": [
        "training_set = dataset.iloc[:,1:2]"
      ],
      "execution_count": 207,
      "outputs": []
    },
    {
      "cell_type": "code",
      "metadata": {
        "colab": {
          "base_uri": "https://localhost:8080/"
        },
        "id": "2ZLNAe8JrRMr",
        "outputId": "3280d578-ea07-4536-da1a-5d0b21275fca"
      },
      "source": [
        "training_set.shape"
      ],
      "execution_count": 208,
      "outputs": [
        {
          "output_type": "execute_result",
          "data": {
            "text/plain": [
              "(3071, 1)"
            ]
          },
          "metadata": {
            "tags": []
          },
          "execution_count": 208
        }
      ]
    },
    {
      "cell_type": "code",
      "metadata": {
        "id": "R5A1F3cesq6s"
      },
      "source": [
        "from sklearn.preprocessing import MinMaxScaler"
      ],
      "execution_count": 5,
      "outputs": []
    },
    {
      "cell_type": "code",
      "metadata": {
        "id": "pF7e2fJmsrrL"
      },
      "source": [
        "sc = MinMaxScaler(feature_range=(0,1))"
      ],
      "execution_count": 209,
      "outputs": []
    },
    {
      "cell_type": "code",
      "metadata": {
        "id": "jcLmic73suTD"
      },
      "source": [
        "training_set_scaled = sc.fit_transform(training_set)"
      ],
      "execution_count": 210,
      "outputs": []
    },
    {
      "cell_type": "code",
      "metadata": {
        "colab": {
          "base_uri": "https://localhost:8080/"
        },
        "id": "Rw1joDSctAWD",
        "outputId": "118a5a7a-948a-4406-e814-1c0d4dba0897"
      },
      "source": [
        "training_set_scaled"
      ],
      "execution_count": 41,
      "outputs": [
        {
          "output_type": "execute_result",
          "data": {
            "text/plain": [
              "array([[0.19927536],\n",
              "       [0.10869565],\n",
              "       [0.19202899],\n",
              "       ...,\n",
              "       [0.33695652],\n",
              "       [0.27536232],\n",
              "       [0.26811594]])"
            ]
          },
          "metadata": {
            "tags": []
          },
          "execution_count": 41
        }
      ]
    },
    {
      "cell_type": "code",
      "metadata": {
        "id": "ozd5MDRdtBVG"
      },
      "source": [
        "x_train = []\r\n",
        "y_train = []\r\n",
        "n_future = 3 # next 4 days temperature forecast\r\n",
        "n_past = 3 # Past 30 days "
      ],
      "execution_count": 211,
      "outputs": []
    },
    {
      "cell_type": "code",
      "metadata": {
        "id": "_kse3k2WtF0j"
      },
      "source": [
        "for i in range(0,len(training_set_scaled)-n_past-n_future+1):\r\n",
        "    x_train.append(training_set_scaled[i : i + n_past , 0])     \r\n",
        "    y_train.append(training_set_scaled[i + n_past : i + n_past + n_future , 0 ])"
      ],
      "execution_count": 212,
      "outputs": []
    },
    {
      "cell_type": "code",
      "metadata": {
        "id": "FkGZqYiktOwK"
      },
      "source": [
        "x_train , y_train = np.array(x_train), np.array(y_train)"
      ],
      "execution_count": 213,
      "outputs": []
    },
    {
      "cell_type": "code",
      "metadata": {
        "colab": {
          "base_uri": "https://localhost:8080/"
        },
        "id": "f5YAnUJXUuHL",
        "outputId": "b342a7b4-2e77-4d92-8ba1-54f001dfa5c5"
      },
      "source": [
        "x_train.shape"
      ],
      "execution_count": 214,
      "outputs": [
        {
          "output_type": "execute_result",
          "data": {
            "text/plain": [
              "(3066, 3)"
            ]
          },
          "metadata": {
            "tags": []
          },
          "execution_count": 214
        }
      ]
    },
    {
      "cell_type": "code",
      "metadata": {
        "id": "UnYoQb-StZEq"
      },
      "source": [
        "x_train = np.reshape(x_train, (x_train.shape[0] , x_train.shape[1], 1))"
      ],
      "execution_count": 215,
      "outputs": []
    },
    {
      "cell_type": "code",
      "metadata": {
        "colab": {
          "base_uri": "https://localhost:8080/"
        },
        "id": "2pieNd7rVYdI",
        "outputId": "848acbb3-5d92-4fee-8a41-311ca5d29b5f"
      },
      "source": [
        "x_train.shape"
      ],
      "execution_count": 216,
      "outputs": [
        {
          "output_type": "execute_result",
          "data": {
            "text/plain": [
              "(3066, 3, 1)"
            ]
          },
          "metadata": {
            "tags": []
          },
          "execution_count": 216
        }
      ]
    },
    {
      "cell_type": "code",
      "metadata": {
        "colab": {
          "base_uri": "https://localhost:8080/"
        },
        "id": "WVnrV9tjVZms",
        "outputId": "88e12e04-f81a-4ce1-bf91-7f74d10863ea"
      },
      "source": [
        "y_train.shape"
      ],
      "execution_count": 217,
      "outputs": [
        {
          "output_type": "execute_result",
          "data": {
            "text/plain": [
              "(3066, 3)"
            ]
          },
          "metadata": {
            "tags": []
          },
          "execution_count": 217
        }
      ]
    },
    {
      "cell_type": "code",
      "metadata": {
        "id": "BZMXDZbntiAD"
      },
      "source": [
        "from keras.models import Sequential\r\n",
        "from keras.layers import LSTM,Dense ,Dropout, Bidirectional"
      ],
      "execution_count": 6,
      "outputs": []
    },
    {
      "cell_type": "code",
      "metadata": {
        "colab": {
          "base_uri": "https://localhost:8080/"
        },
        "id": "5rfCdv6tudhw",
        "outputId": "b3adf68e-b4ec-4372-cf90-b04b992997a5"
      },
      "source": [
        "import tensorflow as tf \r\n",
        "print(tf.__version__)"
      ],
      "execution_count": 17,
      "outputs": [
        {
          "output_type": "stream",
          "text": [
            "2.4.0\n"
          ],
          "name": "stdout"
        }
      ]
    },
    {
      "cell_type": "code",
      "metadata": {
        "colab": {
          "base_uri": "https://localhost:8080/"
        },
        "id": "ue0AbYaqtk3W",
        "outputId": "7c0ea28c-40a8-4ef6-a5bc-7703200b2707"
      },
      "source": [
        "regressor = Sequential()\r\n",
        "regressor.add(Bidirectional(LSTM(units=30, return_sequences=True, input_shape = (x_train.shape[1],1) ) ))\r\n",
        "regressor.add(Dropout(0.2))\r\n",
        "regressor.add(LSTM(units= 30 , return_sequences=True))\r\n",
        "regressor.add(Dropout(0.2))\r\n",
        "regressor.add(LSTM(units= 30 , return_sequences=True))\r\n",
        "regressor.add(Dropout(0.2))\r\n",
        "regressor.add(LSTM(units= 30))\r\n",
        "regressor.add(Dropout(0.2))\r\n",
        "regressor.add(Dense(units = n_future,activation='linear'))\r\n",
        "regressor.compile(optimizer='adam', loss='mean_squared_error',metrics=['acc'])\r\n",
        "regressor.fit(x_train, y_train, epochs=500,batch_size=32 )"
      ],
      "execution_count": 55,
      "outputs": [
        {
          "output_type": "stream",
          "text": [
            "Epoch 1/500\n",
            "96/96 [==============================] - 7s 9ms/step - loss: 0.1148 - acc: 0.3198\n",
            "Epoch 2/500\n",
            "96/96 [==============================] - 1s 9ms/step - loss: 0.0133 - acc: 0.3500\n",
            "Epoch 3/500\n",
            "96/96 [==============================] - 1s 9ms/step - loss: 0.0118 - acc: 0.3273\n",
            "Epoch 4/500\n",
            "96/96 [==============================] - 1s 9ms/step - loss: 0.0104 - acc: 0.3517\n",
            "Epoch 5/500\n",
            "96/96 [==============================] - 1s 9ms/step - loss: 0.0099 - acc: 0.3430\n",
            "Epoch 6/500\n",
            "96/96 [==============================] - 1s 9ms/step - loss: 0.0090 - acc: 0.3419\n",
            "Epoch 7/500\n",
            "96/96 [==============================] - 1s 9ms/step - loss: 0.0094 - acc: 0.3339\n",
            "Epoch 8/500\n",
            "96/96 [==============================] - 1s 9ms/step - loss: 0.0087 - acc: 0.3358\n",
            "Epoch 9/500\n",
            "96/96 [==============================] - 1s 8ms/step - loss: 0.0086 - acc: 0.3601\n",
            "Epoch 10/500\n",
            "96/96 [==============================] - 1s 9ms/step - loss: 0.0082 - acc: 0.3378\n",
            "Epoch 11/500\n",
            "96/96 [==============================] - 1s 9ms/step - loss: 0.0083 - acc: 0.3299\n",
            "Epoch 12/500\n",
            "96/96 [==============================] - 1s 9ms/step - loss: 0.0077 - acc: 0.3325\n",
            "Epoch 13/500\n",
            "96/96 [==============================] - 1s 9ms/step - loss: 0.0080 - acc: 0.3416\n",
            "Epoch 14/500\n",
            "96/96 [==============================] - 1s 9ms/step - loss: 0.0074 - acc: 0.3302\n",
            "Epoch 15/500\n",
            "96/96 [==============================] - 1s 9ms/step - loss: 0.0070 - acc: 0.3490\n",
            "Epoch 16/500\n",
            "96/96 [==============================] - 1s 9ms/step - loss: 0.0071 - acc: 0.3216\n",
            "Epoch 17/500\n",
            "96/96 [==============================] - 1s 9ms/step - loss: 0.0076 - acc: 0.3405\n",
            "Epoch 18/500\n",
            "96/96 [==============================] - 1s 9ms/step - loss: 0.0069 - acc: 0.3323\n",
            "Epoch 19/500\n",
            "96/96 [==============================] - 1s 9ms/step - loss: 0.0071 - acc: 0.3510\n",
            "Epoch 20/500\n",
            "96/96 [==============================] - 1s 9ms/step - loss: 0.0068 - acc: 0.3388\n",
            "Epoch 21/500\n",
            "96/96 [==============================] - 1s 9ms/step - loss: 0.0068 - acc: 0.3435\n",
            "Epoch 22/500\n",
            "96/96 [==============================] - 1s 9ms/step - loss: 0.0067 - acc: 0.3465\n",
            "Epoch 23/500\n",
            "96/96 [==============================] - 1s 9ms/step - loss: 0.0066 - acc: 0.3341\n",
            "Epoch 24/500\n",
            "96/96 [==============================] - 1s 9ms/step - loss: 0.0064 - acc: 0.3594\n",
            "Epoch 25/500\n",
            "96/96 [==============================] - 1s 9ms/step - loss: 0.0067 - acc: 0.3567\n",
            "Epoch 26/500\n",
            "96/96 [==============================] - 1s 9ms/step - loss: 0.0065 - acc: 0.3616\n",
            "Epoch 27/500\n",
            "96/96 [==============================] - 1s 9ms/step - loss: 0.0065 - acc: 0.3766\n",
            "Epoch 28/500\n",
            "96/96 [==============================] - 1s 9ms/step - loss: 0.0070 - acc: 0.3522\n",
            "Epoch 29/500\n",
            "96/96 [==============================] - 1s 9ms/step - loss: 0.0067 - acc: 0.3724\n",
            "Epoch 30/500\n",
            "96/96 [==============================] - 1s 9ms/step - loss: 0.0064 - acc: 0.3385\n",
            "Epoch 31/500\n",
            "96/96 [==============================] - 1s 9ms/step - loss: 0.0063 - acc: 0.3728\n",
            "Epoch 32/500\n",
            "96/96 [==============================] - 1s 9ms/step - loss: 0.0063 - acc: 0.3659\n",
            "Epoch 33/500\n",
            "96/96 [==============================] - 1s 9ms/step - loss: 0.0064 - acc: 0.3666\n",
            "Epoch 34/500\n",
            "96/96 [==============================] - 1s 9ms/step - loss: 0.0065 - acc: 0.3693\n",
            "Epoch 35/500\n",
            "96/96 [==============================] - 1s 9ms/step - loss: 0.0061 - acc: 0.3876\n",
            "Epoch 36/500\n",
            "96/96 [==============================] - 1s 9ms/step - loss: 0.0068 - acc: 0.3580\n",
            "Epoch 37/500\n",
            "96/96 [==============================] - 1s 9ms/step - loss: 0.0064 - acc: 0.3541\n",
            "Epoch 38/500\n",
            "96/96 [==============================] - 1s 9ms/step - loss: 0.0064 - acc: 0.3698\n",
            "Epoch 39/500\n",
            "96/96 [==============================] - 1s 9ms/step - loss: 0.0061 - acc: 0.3632\n",
            "Epoch 40/500\n",
            "96/96 [==============================] - 1s 9ms/step - loss: 0.0062 - acc: 0.3777\n",
            "Epoch 41/500\n",
            "96/96 [==============================] - 1s 9ms/step - loss: 0.0060 - acc: 0.3895\n",
            "Epoch 42/500\n",
            "96/96 [==============================] - 1s 9ms/step - loss: 0.0062 - acc: 0.3740\n",
            "Epoch 43/500\n",
            "96/96 [==============================] - 1s 9ms/step - loss: 0.0062 - acc: 0.3885\n",
            "Epoch 44/500\n",
            "96/96 [==============================] - 1s 9ms/step - loss: 0.0063 - acc: 0.3754\n",
            "Epoch 45/500\n",
            "96/96 [==============================] - 1s 9ms/step - loss: 0.0060 - acc: 0.3726\n",
            "Epoch 46/500\n",
            "96/96 [==============================] - 1s 9ms/step - loss: 0.0064 - acc: 0.3691\n",
            "Epoch 47/500\n",
            "96/96 [==============================] - 1s 9ms/step - loss: 0.0063 - acc: 0.3551\n",
            "Epoch 48/500\n",
            "96/96 [==============================] - 1s 9ms/step - loss: 0.0061 - acc: 0.3853\n",
            "Epoch 49/500\n",
            "96/96 [==============================] - 1s 9ms/step - loss: 0.0060 - acc: 0.3729\n",
            "Epoch 50/500\n",
            "96/96 [==============================] - 1s 9ms/step - loss: 0.0060 - acc: 0.3717\n",
            "Epoch 51/500\n",
            "96/96 [==============================] - 1s 9ms/step - loss: 0.0063 - acc: 0.3581\n",
            "Epoch 52/500\n",
            "96/96 [==============================] - 1s 9ms/step - loss: 0.0060 - acc: 0.3835\n",
            "Epoch 53/500\n",
            "96/96 [==============================] - 1s 9ms/step - loss: 0.0063 - acc: 0.3741\n",
            "Epoch 54/500\n",
            "96/96 [==============================] - 1s 9ms/step - loss: 0.0059 - acc: 0.3556\n",
            "Epoch 55/500\n",
            "96/96 [==============================] - 1s 9ms/step - loss: 0.0058 - acc: 0.3872\n",
            "Epoch 56/500\n",
            "96/96 [==============================] - 1s 9ms/step - loss: 0.0059 - acc: 0.4039\n",
            "Epoch 57/500\n",
            "96/96 [==============================] - 1s 9ms/step - loss: 0.0062 - acc: 0.3838\n",
            "Epoch 58/500\n",
            "96/96 [==============================] - 1s 9ms/step - loss: 0.0060 - acc: 0.3831\n",
            "Epoch 59/500\n",
            "96/96 [==============================] - 1s 9ms/step - loss: 0.0060 - acc: 0.3975\n",
            "Epoch 60/500\n",
            "96/96 [==============================] - 1s 9ms/step - loss: 0.0063 - acc: 0.3887\n",
            "Epoch 61/500\n",
            "96/96 [==============================] - 1s 9ms/step - loss: 0.0058 - acc: 0.3776\n",
            "Epoch 62/500\n",
            "96/96 [==============================] - 1s 9ms/step - loss: 0.0057 - acc: 0.3797\n",
            "Epoch 63/500\n",
            "96/96 [==============================] - 1s 9ms/step - loss: 0.0058 - acc: 0.4045\n",
            "Epoch 64/500\n",
            "96/96 [==============================] - 1s 9ms/step - loss: 0.0060 - acc: 0.3836\n",
            "Epoch 65/500\n",
            "96/96 [==============================] - 1s 9ms/step - loss: 0.0059 - acc: 0.3565\n",
            "Epoch 66/500\n",
            "96/96 [==============================] - 1s 9ms/step - loss: 0.0060 - acc: 0.3890\n",
            "Epoch 67/500\n",
            "96/96 [==============================] - 1s 9ms/step - loss: 0.0060 - acc: 0.4014\n",
            "Epoch 68/500\n",
            "96/96 [==============================] - 1s 10ms/step - loss: 0.0061 - acc: 0.3552\n",
            "Epoch 69/500\n",
            "96/96 [==============================] - 1s 9ms/step - loss: 0.0059 - acc: 0.3934\n",
            "Epoch 70/500\n",
            "96/96 [==============================] - 1s 9ms/step - loss: 0.0059 - acc: 0.4144\n",
            "Epoch 71/500\n",
            "96/96 [==============================] - 1s 9ms/step - loss: 0.0060 - acc: 0.3421\n",
            "Epoch 72/500\n",
            "96/96 [==============================] - 1s 9ms/step - loss: 0.0060 - acc: 0.3800\n",
            "Epoch 73/500\n",
            "96/96 [==============================] - 1s 9ms/step - loss: 0.0059 - acc: 0.3853\n",
            "Epoch 74/500\n",
            "96/96 [==============================] - 1s 9ms/step - loss: 0.0060 - acc: 0.3881\n",
            "Epoch 75/500\n",
            "96/96 [==============================] - 1s 9ms/step - loss: 0.0059 - acc: 0.3995\n",
            "Epoch 76/500\n",
            "96/96 [==============================] - 1s 9ms/step - loss: 0.0061 - acc: 0.3892\n",
            "Epoch 77/500\n",
            "96/96 [==============================] - 1s 9ms/step - loss: 0.0060 - acc: 0.3898\n",
            "Epoch 78/500\n",
            "96/96 [==============================] - 1s 9ms/step - loss: 0.0058 - acc: 0.3878\n",
            "Epoch 79/500\n",
            "96/96 [==============================] - 1s 9ms/step - loss: 0.0058 - acc: 0.3841\n",
            "Epoch 80/500\n",
            "96/96 [==============================] - 1s 9ms/step - loss: 0.0059 - acc: 0.4111\n",
            "Epoch 81/500\n",
            "96/96 [==============================] - 1s 9ms/step - loss: 0.0059 - acc: 0.3793\n",
            "Epoch 82/500\n",
            "96/96 [==============================] - 1s 9ms/step - loss: 0.0059 - acc: 0.3977\n",
            "Epoch 83/500\n",
            "96/96 [==============================] - 1s 9ms/step - loss: 0.0059 - acc: 0.4036\n",
            "Epoch 84/500\n",
            "96/96 [==============================] - 1s 9ms/step - loss: 0.0059 - acc: 0.3838\n",
            "Epoch 85/500\n",
            "96/96 [==============================] - 1s 9ms/step - loss: 0.0060 - acc: 0.4018\n",
            "Epoch 86/500\n",
            "96/96 [==============================] - 1s 9ms/step - loss: 0.0061 - acc: 0.3710\n",
            "Epoch 87/500\n",
            "96/96 [==============================] - 1s 9ms/step - loss: 0.0059 - acc: 0.4149\n",
            "Epoch 88/500\n",
            "96/96 [==============================] - 1s 9ms/step - loss: 0.0060 - acc: 0.3860\n",
            "Epoch 89/500\n",
            "96/96 [==============================] - 1s 9ms/step - loss: 0.0060 - acc: 0.3664\n",
            "Epoch 90/500\n",
            "96/96 [==============================] - 1s 9ms/step - loss: 0.0059 - acc: 0.3703\n",
            "Epoch 91/500\n",
            "96/96 [==============================] - 1s 9ms/step - loss: 0.0061 - acc: 0.3983\n",
            "Epoch 92/500\n",
            "96/96 [==============================] - 1s 9ms/step - loss: 0.0062 - acc: 0.3781\n",
            "Epoch 93/500\n",
            "96/96 [==============================] - 1s 9ms/step - loss: 0.0063 - acc: 0.3923\n",
            "Epoch 94/500\n",
            "96/96 [==============================] - 1s 9ms/step - loss: 0.0061 - acc: 0.3990\n",
            "Epoch 95/500\n",
            "96/96 [==============================] - 1s 9ms/step - loss: 0.0061 - acc: 0.4008\n",
            "Epoch 96/500\n",
            "96/96 [==============================] - 1s 9ms/step - loss: 0.0062 - acc: 0.4062\n",
            "Epoch 97/500\n",
            "96/96 [==============================] - 1s 9ms/step - loss: 0.0060 - acc: 0.3884\n",
            "Epoch 98/500\n",
            "96/96 [==============================] - 1s 9ms/step - loss: 0.0060 - acc: 0.4070\n",
            "Epoch 99/500\n",
            "96/96 [==============================] - 1s 9ms/step - loss: 0.0061 - acc: 0.3584\n",
            "Epoch 100/500\n",
            "96/96 [==============================] - 1s 9ms/step - loss: 0.0060 - acc: 0.3782\n",
            "Epoch 101/500\n",
            "96/96 [==============================] - 1s 9ms/step - loss: 0.0056 - acc: 0.3839\n",
            "Epoch 102/500\n",
            "96/96 [==============================] - 1s 9ms/step - loss: 0.0061 - acc: 0.4160\n",
            "Epoch 103/500\n",
            "96/96 [==============================] - 1s 9ms/step - loss: 0.0060 - acc: 0.3663\n",
            "Epoch 104/500\n",
            "96/96 [==============================] - 1s 9ms/step - loss: 0.0062 - acc: 0.4083\n",
            "Epoch 105/500\n",
            "96/96 [==============================] - 1s 9ms/step - loss: 0.0059 - acc: 0.4000\n",
            "Epoch 106/500\n",
            "96/96 [==============================] - 1s 9ms/step - loss: 0.0062 - acc: 0.4016\n",
            "Epoch 107/500\n",
            "96/96 [==============================] - 1s 9ms/step - loss: 0.0060 - acc: 0.3970\n",
            "Epoch 108/500\n",
            "96/96 [==============================] - 1s 9ms/step - loss: 0.0062 - acc: 0.4114\n",
            "Epoch 109/500\n",
            "96/96 [==============================] - 1s 9ms/step - loss: 0.0060 - acc: 0.3624\n",
            "Epoch 110/500\n",
            "96/96 [==============================] - 1s 9ms/step - loss: 0.0058 - acc: 0.4091\n",
            "Epoch 111/500\n",
            "96/96 [==============================] - 1s 9ms/step - loss: 0.0060 - acc: 0.3763\n",
            "Epoch 112/500\n",
            "96/96 [==============================] - 1s 9ms/step - loss: 0.0062 - acc: 0.4048\n",
            "Epoch 113/500\n",
            "96/96 [==============================] - 1s 9ms/step - loss: 0.0062 - acc: 0.4110\n",
            "Epoch 114/500\n",
            "96/96 [==============================] - 1s 9ms/step - loss: 0.0060 - acc: 0.4093\n",
            "Epoch 115/500\n",
            "96/96 [==============================] - 1s 9ms/step - loss: 0.0060 - acc: 0.3973\n",
            "Epoch 116/500\n",
            "96/96 [==============================] - 1s 9ms/step - loss: 0.0062 - acc: 0.3819\n",
            "Epoch 117/500\n",
            "96/96 [==============================] - 1s 9ms/step - loss: 0.0061 - acc: 0.3776\n",
            "Epoch 118/500\n",
            "96/96 [==============================] - 1s 9ms/step - loss: 0.0059 - acc: 0.4203\n",
            "Epoch 119/500\n",
            "96/96 [==============================] - 1s 9ms/step - loss: 0.0058 - acc: 0.3609\n",
            "Epoch 120/500\n",
            "96/96 [==============================] - 1s 9ms/step - loss: 0.0063 - acc: 0.3795\n",
            "Epoch 121/500\n",
            "96/96 [==============================] - 1s 9ms/step - loss: 0.0061 - acc: 0.3869\n",
            "Epoch 122/500\n",
            "96/96 [==============================] - 1s 9ms/step - loss: 0.0056 - acc: 0.4098\n",
            "Epoch 123/500\n",
            "96/96 [==============================] - 1s 9ms/step - loss: 0.0061 - acc: 0.4007\n",
            "Epoch 124/500\n",
            "96/96 [==============================] - 1s 9ms/step - loss: 0.0058 - acc: 0.4020\n",
            "Epoch 125/500\n",
            "96/96 [==============================] - 1s 9ms/step - loss: 0.0060 - acc: 0.4125\n",
            "Epoch 126/500\n",
            "96/96 [==============================] - 1s 9ms/step - loss: 0.0059 - acc: 0.4066\n",
            "Epoch 127/500\n",
            "96/96 [==============================] - 1s 9ms/step - loss: 0.0060 - acc: 0.4061\n",
            "Epoch 128/500\n",
            "96/96 [==============================] - 1s 9ms/step - loss: 0.0060 - acc: 0.3950\n",
            "Epoch 129/500\n",
            "96/96 [==============================] - 1s 9ms/step - loss: 0.0058 - acc: 0.3914\n",
            "Epoch 130/500\n",
            "96/96 [==============================] - 1s 9ms/step - loss: 0.0057 - acc: 0.3905\n",
            "Epoch 131/500\n",
            "96/96 [==============================] - 1s 9ms/step - loss: 0.0058 - acc: 0.3903\n",
            "Epoch 132/500\n",
            "96/96 [==============================] - 1s 9ms/step - loss: 0.0061 - acc: 0.3972\n",
            "Epoch 133/500\n",
            "96/96 [==============================] - 1s 9ms/step - loss: 0.0060 - acc: 0.4003\n",
            "Epoch 134/500\n",
            "96/96 [==============================] - 1s 9ms/step - loss: 0.0058 - acc: 0.4042\n",
            "Epoch 135/500\n",
            "96/96 [==============================] - 1s 9ms/step - loss: 0.0060 - acc: 0.3842\n",
            "Epoch 136/500\n",
            "96/96 [==============================] - 1s 9ms/step - loss: 0.0060 - acc: 0.3844\n",
            "Epoch 137/500\n",
            "96/96 [==============================] - 1s 9ms/step - loss: 0.0061 - acc: 0.4043\n",
            "Epoch 138/500\n",
            "96/96 [==============================] - 1s 9ms/step - loss: 0.0059 - acc: 0.4075\n",
            "Epoch 139/500\n",
            "96/96 [==============================] - 1s 9ms/step - loss: 0.0057 - acc: 0.3860\n",
            "Epoch 140/500\n",
            "96/96 [==============================] - 1s 9ms/step - loss: 0.0061 - acc: 0.4049\n",
            "Epoch 141/500\n",
            "96/96 [==============================] - 1s 9ms/step - loss: 0.0058 - acc: 0.3871\n",
            "Epoch 142/500\n",
            "96/96 [==============================] - 1s 9ms/step - loss: 0.0060 - acc: 0.3954\n",
            "Epoch 143/500\n",
            "96/96 [==============================] - 1s 9ms/step - loss: 0.0057 - acc: 0.4200\n",
            "Epoch 144/500\n",
            "96/96 [==============================] - 1s 9ms/step - loss: 0.0060 - acc: 0.4091\n",
            "Epoch 145/500\n",
            "96/96 [==============================] - 1s 9ms/step - loss: 0.0060 - acc: 0.3889\n",
            "Epoch 146/500\n",
            "96/96 [==============================] - 1s 9ms/step - loss: 0.0062 - acc: 0.4095\n",
            "Epoch 147/500\n",
            "96/96 [==============================] - 1s 9ms/step - loss: 0.0063 - acc: 0.3962\n",
            "Epoch 148/500\n",
            "96/96 [==============================] - 1s 9ms/step - loss: 0.0062 - acc: 0.3984\n",
            "Epoch 149/500\n",
            "96/96 [==============================] - 1s 9ms/step - loss: 0.0062 - acc: 0.3887\n",
            "Epoch 150/500\n",
            "96/96 [==============================] - 1s 9ms/step - loss: 0.0062 - acc: 0.3853\n",
            "Epoch 151/500\n",
            "96/96 [==============================] - 1s 9ms/step - loss: 0.0062 - acc: 0.4051\n",
            "Epoch 152/500\n",
            "96/96 [==============================] - 1s 9ms/step - loss: 0.0059 - acc: 0.3975\n",
            "Epoch 153/500\n",
            "96/96 [==============================] - 1s 9ms/step - loss: 0.0059 - acc: 0.4112\n",
            "Epoch 154/500\n",
            "96/96 [==============================] - 1s 9ms/step - loss: 0.0059 - acc: 0.3943\n",
            "Epoch 155/500\n",
            "96/96 [==============================] - 1s 9ms/step - loss: 0.0060 - acc: 0.3999\n",
            "Epoch 156/500\n",
            "96/96 [==============================] - 1s 9ms/step - loss: 0.0059 - acc: 0.3993\n",
            "Epoch 157/500\n",
            "96/96 [==============================] - 1s 9ms/step - loss: 0.0058 - acc: 0.4048\n",
            "Epoch 158/500\n",
            "96/96 [==============================] - 1s 9ms/step - loss: 0.0062 - acc: 0.3822\n",
            "Epoch 159/500\n",
            "96/96 [==============================] - 1s 9ms/step - loss: 0.0060 - acc: 0.4077\n",
            "Epoch 160/500\n",
            "96/96 [==============================] - 1s 9ms/step - loss: 0.0062 - acc: 0.4233\n",
            "Epoch 161/500\n",
            "96/96 [==============================] - 1s 9ms/step - loss: 0.0061 - acc: 0.4086\n",
            "Epoch 162/500\n",
            "96/96 [==============================] - 1s 9ms/step - loss: 0.0057 - acc: 0.4160\n",
            "Epoch 163/500\n",
            "96/96 [==============================] - 1s 9ms/step - loss: 0.0059 - acc: 0.4117\n",
            "Epoch 164/500\n",
            "96/96 [==============================] - 1s 9ms/step - loss: 0.0059 - acc: 0.3941\n",
            "Epoch 165/500\n",
            "96/96 [==============================] - 1s 9ms/step - loss: 0.0058 - acc: 0.3782\n",
            "Epoch 166/500\n",
            "96/96 [==============================] - 1s 9ms/step - loss: 0.0057 - acc: 0.4080\n",
            "Epoch 167/500\n",
            "96/96 [==============================] - 1s 9ms/step - loss: 0.0058 - acc: 0.4055\n",
            "Epoch 168/500\n",
            "96/96 [==============================] - 1s 9ms/step - loss: 0.0059 - acc: 0.3787\n",
            "Epoch 169/500\n",
            "96/96 [==============================] - 1s 9ms/step - loss: 0.0058 - acc: 0.3970\n",
            "Epoch 170/500\n",
            "96/96 [==============================] - 1s 9ms/step - loss: 0.0059 - acc: 0.4201\n",
            "Epoch 171/500\n",
            "96/96 [==============================] - 1s 9ms/step - loss: 0.0061 - acc: 0.4078\n",
            "Epoch 172/500\n",
            "96/96 [==============================] - 1s 9ms/step - loss: 0.0059 - acc: 0.4091\n",
            "Epoch 173/500\n",
            "96/96 [==============================] - 1s 9ms/step - loss: 0.0058 - acc: 0.4134\n",
            "Epoch 174/500\n",
            "96/96 [==============================] - 1s 9ms/step - loss: 0.0060 - acc: 0.4092\n",
            "Epoch 175/500\n",
            "96/96 [==============================] - 1s 9ms/step - loss: 0.0058 - acc: 0.4008\n",
            "Epoch 176/500\n",
            "96/96 [==============================] - 1s 9ms/step - loss: 0.0059 - acc: 0.3992\n",
            "Epoch 177/500\n",
            "96/96 [==============================] - 1s 9ms/step - loss: 0.0059 - acc: 0.3856\n",
            "Epoch 178/500\n",
            "96/96 [==============================] - 1s 9ms/step - loss: 0.0058 - acc: 0.4106\n",
            "Epoch 179/500\n",
            "96/96 [==============================] - 1s 9ms/step - loss: 0.0061 - acc: 0.3903\n",
            "Epoch 180/500\n",
            "96/96 [==============================] - 1s 9ms/step - loss: 0.0061 - acc: 0.4062\n",
            "Epoch 181/500\n",
            "96/96 [==============================] - 1s 9ms/step - loss: 0.0056 - acc: 0.4093\n",
            "Epoch 182/500\n",
            "96/96 [==============================] - 1s 9ms/step - loss: 0.0060 - acc: 0.4016\n",
            "Epoch 183/500\n",
            "96/96 [==============================] - 1s 9ms/step - loss: 0.0058 - acc: 0.4141\n",
            "Epoch 184/500\n",
            "96/96 [==============================] - 1s 9ms/step - loss: 0.0058 - acc: 0.4071\n",
            "Epoch 185/500\n",
            "96/96 [==============================] - 1s 9ms/step - loss: 0.0059 - acc: 0.3976\n",
            "Epoch 186/500\n",
            "96/96 [==============================] - 1s 9ms/step - loss: 0.0059 - acc: 0.4033\n",
            "Epoch 187/500\n",
            "96/96 [==============================] - 1s 9ms/step - loss: 0.0059 - acc: 0.3911\n",
            "Epoch 188/500\n",
            "96/96 [==============================] - 1s 9ms/step - loss: 0.0058 - acc: 0.4238\n",
            "Epoch 189/500\n",
            "96/96 [==============================] - 1s 9ms/step - loss: 0.0061 - acc: 0.3928\n",
            "Epoch 190/500\n",
            "96/96 [==============================] - 1s 9ms/step - loss: 0.0058 - acc: 0.3964\n",
            "Epoch 191/500\n",
            "96/96 [==============================] - 1s 9ms/step - loss: 0.0062 - acc: 0.4137\n",
            "Epoch 192/500\n",
            "96/96 [==============================] - 1s 9ms/step - loss: 0.0060 - acc: 0.4038\n",
            "Epoch 193/500\n",
            "96/96 [==============================] - 1s 9ms/step - loss: 0.0058 - acc: 0.4052\n",
            "Epoch 194/500\n",
            "96/96 [==============================] - 1s 9ms/step - loss: 0.0059 - acc: 0.4052\n",
            "Epoch 195/500\n",
            "96/96 [==============================] - 1s 9ms/step - loss: 0.0059 - acc: 0.4188\n",
            "Epoch 196/500\n",
            "96/96 [==============================] - 1s 9ms/step - loss: 0.0061 - acc: 0.3804\n",
            "Epoch 197/500\n",
            "96/96 [==============================] - 1s 9ms/step - loss: 0.0058 - acc: 0.3997\n",
            "Epoch 198/500\n",
            "96/96 [==============================] - 1s 9ms/step - loss: 0.0059 - acc: 0.4051\n",
            "Epoch 199/500\n",
            "96/96 [==============================] - 1s 9ms/step - loss: 0.0059 - acc: 0.4166\n",
            "Epoch 200/500\n",
            "96/96 [==============================] - 1s 9ms/step - loss: 0.0054 - acc: 0.3846\n",
            "Epoch 201/500\n",
            "96/96 [==============================] - 1s 9ms/step - loss: 0.0059 - acc: 0.4146\n",
            "Epoch 202/500\n",
            "96/96 [==============================] - 1s 9ms/step - loss: 0.0057 - acc: 0.4212\n",
            "Epoch 203/500\n",
            "96/96 [==============================] - 1s 9ms/step - loss: 0.0058 - acc: 0.3931\n",
            "Epoch 204/500\n",
            "96/96 [==============================] - 1s 9ms/step - loss: 0.0058 - acc: 0.3921\n",
            "Epoch 205/500\n",
            "96/96 [==============================] - 1s 9ms/step - loss: 0.0055 - acc: 0.3899\n",
            "Epoch 206/500\n",
            "96/96 [==============================] - 1s 9ms/step - loss: 0.0057 - acc: 0.3801\n",
            "Epoch 207/500\n",
            "96/96 [==============================] - 1s 9ms/step - loss: 0.0053 - acc: 0.4061\n",
            "Epoch 208/500\n",
            "96/96 [==============================] - 1s 9ms/step - loss: 0.0061 - acc: 0.4123\n",
            "Epoch 209/500\n",
            "96/96 [==============================] - 1s 9ms/step - loss: 0.0056 - acc: 0.4014\n",
            "Epoch 210/500\n",
            "96/96 [==============================] - 1s 9ms/step - loss: 0.0058 - acc: 0.3957\n",
            "Epoch 211/500\n",
            "96/96 [==============================] - 1s 9ms/step - loss: 0.0059 - acc: 0.3942\n",
            "Epoch 212/500\n",
            "96/96 [==============================] - 1s 9ms/step - loss: 0.0057 - acc: 0.4118\n",
            "Epoch 213/500\n",
            "96/96 [==============================] - 1s 9ms/step - loss: 0.0057 - acc: 0.3997\n",
            "Epoch 214/500\n",
            "96/96 [==============================] - 1s 9ms/step - loss: 0.0057 - acc: 0.4302\n",
            "Epoch 215/500\n",
            "96/96 [==============================] - 1s 9ms/step - loss: 0.0059 - acc: 0.4090\n",
            "Epoch 216/500\n",
            "96/96 [==============================] - 1s 9ms/step - loss: 0.0060 - acc: 0.4254\n",
            "Epoch 217/500\n",
            "96/96 [==============================] - 1s 9ms/step - loss: 0.0056 - acc: 0.3949\n",
            "Epoch 218/500\n",
            "96/96 [==============================] - 1s 9ms/step - loss: 0.0061 - acc: 0.3973\n",
            "Epoch 219/500\n",
            "96/96 [==============================] - 1s 9ms/step - loss: 0.0058 - acc: 0.3810\n",
            "Epoch 220/500\n",
            "96/96 [==============================] - 1s 9ms/step - loss: 0.0056 - acc: 0.4139\n",
            "Epoch 221/500\n",
            "96/96 [==============================] - 1s 9ms/step - loss: 0.0059 - acc: 0.4079\n",
            "Epoch 222/500\n",
            "96/96 [==============================] - 1s 9ms/step - loss: 0.0060 - acc: 0.4077\n",
            "Epoch 223/500\n",
            "96/96 [==============================] - 1s 9ms/step - loss: 0.0060 - acc: 0.4140\n",
            "Epoch 224/500\n",
            "96/96 [==============================] - 1s 9ms/step - loss: 0.0058 - acc: 0.4145\n",
            "Epoch 225/500\n",
            "96/96 [==============================] - 1s 9ms/step - loss: 0.0058 - acc: 0.4026\n",
            "Epoch 226/500\n",
            "96/96 [==============================] - 1s 9ms/step - loss: 0.0055 - acc: 0.4187\n",
            "Epoch 227/500\n",
            "96/96 [==============================] - 1s 9ms/step - loss: 0.0057 - acc: 0.3995\n",
            "Epoch 228/500\n",
            "96/96 [==============================] - 1s 9ms/step - loss: 0.0058 - acc: 0.3967\n",
            "Epoch 229/500\n",
            "96/96 [==============================] - 1s 9ms/step - loss: 0.0057 - acc: 0.4225\n",
            "Epoch 230/500\n",
            "96/96 [==============================] - 1s 9ms/step - loss: 0.0060 - acc: 0.4021\n",
            "Epoch 231/500\n",
            "96/96 [==============================] - 1s 9ms/step - loss: 0.0059 - acc: 0.3992\n",
            "Epoch 232/500\n",
            "96/96 [==============================] - 1s 9ms/step - loss: 0.0057 - acc: 0.4115\n",
            "Epoch 233/500\n",
            "96/96 [==============================] - 1s 9ms/step - loss: 0.0058 - acc: 0.3884\n",
            "Epoch 234/500\n",
            "96/96 [==============================] - 1s 9ms/step - loss: 0.0056 - acc: 0.4306\n",
            "Epoch 235/500\n",
            "96/96 [==============================] - 1s 9ms/step - loss: 0.0060 - acc: 0.4219\n",
            "Epoch 236/500\n",
            "96/96 [==============================] - 1s 9ms/step - loss: 0.0058 - acc: 0.4060\n",
            "Epoch 237/500\n",
            "96/96 [==============================] - 1s 9ms/step - loss: 0.0059 - acc: 0.4216\n",
            "Epoch 238/500\n",
            "96/96 [==============================] - 1s 9ms/step - loss: 0.0058 - acc: 0.4080\n",
            "Epoch 239/500\n",
            "96/96 [==============================] - 1s 9ms/step - loss: 0.0060 - acc: 0.4180\n",
            "Epoch 240/500\n",
            "96/96 [==============================] - 1s 9ms/step - loss: 0.0059 - acc: 0.4139\n",
            "Epoch 241/500\n",
            "96/96 [==============================] - 1s 9ms/step - loss: 0.0056 - acc: 0.3938\n",
            "Epoch 242/500\n",
            "96/96 [==============================] - 1s 9ms/step - loss: 0.0058 - acc: 0.3892\n",
            "Epoch 243/500\n",
            "96/96 [==============================] - 1s 9ms/step - loss: 0.0059 - acc: 0.3867\n",
            "Epoch 244/500\n",
            "96/96 [==============================] - 1s 9ms/step - loss: 0.0056 - acc: 0.3722\n",
            "Epoch 245/500\n",
            "96/96 [==============================] - 1s 9ms/step - loss: 0.0059 - acc: 0.4134\n",
            "Epoch 246/500\n",
            "96/96 [==============================] - 1s 9ms/step - loss: 0.0057 - acc: 0.3988\n",
            "Epoch 247/500\n",
            "96/96 [==============================] - 1s 9ms/step - loss: 0.0057 - acc: 0.4133\n",
            "Epoch 248/500\n",
            "96/96 [==============================] - 1s 9ms/step - loss: 0.0061 - acc: 0.4155\n",
            "Epoch 249/500\n",
            "96/96 [==============================] - 1s 9ms/step - loss: 0.0060 - acc: 0.4199\n",
            "Epoch 250/500\n",
            "96/96 [==============================] - 1s 9ms/step - loss: 0.0058 - acc: 0.4137\n",
            "Epoch 251/500\n",
            "96/96 [==============================] - 1s 9ms/step - loss: 0.0057 - acc: 0.4108\n",
            "Epoch 252/500\n",
            "96/96 [==============================] - 1s 9ms/step - loss: 0.0059 - acc: 0.3873\n",
            "Epoch 253/500\n",
            "96/96 [==============================] - 1s 9ms/step - loss: 0.0059 - acc: 0.4066\n",
            "Epoch 254/500\n",
            "96/96 [==============================] - 1s 9ms/step - loss: 0.0057 - acc: 0.4068\n",
            "Epoch 255/500\n",
            "96/96 [==============================] - 1s 9ms/step - loss: 0.0062 - acc: 0.4231\n",
            "Epoch 256/500\n",
            "96/96 [==============================] - 1s 9ms/step - loss: 0.0060 - acc: 0.4179\n",
            "Epoch 257/500\n",
            "96/96 [==============================] - 1s 9ms/step - loss: 0.0058 - acc: 0.4173\n",
            "Epoch 258/500\n",
            "96/96 [==============================] - 1s 9ms/step - loss: 0.0059 - acc: 0.4076\n",
            "Epoch 259/500\n",
            "96/96 [==============================] - 1s 9ms/step - loss: 0.0058 - acc: 0.4030\n",
            "Epoch 260/500\n",
            "96/96 [==============================] - 1s 9ms/step - loss: 0.0057 - acc: 0.4111\n",
            "Epoch 261/500\n",
            "96/96 [==============================] - 1s 9ms/step - loss: 0.0064 - acc: 0.3922\n",
            "Epoch 262/500\n",
            "96/96 [==============================] - 1s 9ms/step - loss: 0.0055 - acc: 0.4183\n",
            "Epoch 263/500\n",
            "96/96 [==============================] - 1s 9ms/step - loss: 0.0058 - acc: 0.4040\n",
            "Epoch 264/500\n",
            "96/96 [==============================] - 1s 9ms/step - loss: 0.0058 - acc: 0.3941\n",
            "Epoch 265/500\n",
            "96/96 [==============================] - 1s 9ms/step - loss: 0.0057 - acc: 0.3911\n",
            "Epoch 266/500\n",
            "96/96 [==============================] - 1s 9ms/step - loss: 0.0059 - acc: 0.4255\n",
            "Epoch 267/500\n",
            "96/96 [==============================] - 1s 9ms/step - loss: 0.0060 - acc: 0.4154\n",
            "Epoch 268/500\n",
            "96/96 [==============================] - 1s 9ms/step - loss: 0.0056 - acc: 0.4108\n",
            "Epoch 269/500\n",
            "96/96 [==============================] - 1s 9ms/step - loss: 0.0059 - acc: 0.4028\n",
            "Epoch 270/500\n",
            "96/96 [==============================] - 1s 9ms/step - loss: 0.0060 - acc: 0.4249\n",
            "Epoch 271/500\n",
            "96/96 [==============================] - 1s 9ms/step - loss: 0.0060 - acc: 0.4059\n",
            "Epoch 272/500\n",
            "96/96 [==============================] - 1s 9ms/step - loss: 0.0061 - acc: 0.4206\n",
            "Epoch 273/500\n",
            "96/96 [==============================] - 1s 9ms/step - loss: 0.0059 - acc: 0.4135\n",
            "Epoch 274/500\n",
            "96/96 [==============================] - 1s 9ms/step - loss: 0.0056 - acc: 0.3827\n",
            "Epoch 275/500\n",
            "96/96 [==============================] - 1s 9ms/step - loss: 0.0057 - acc: 0.4134\n",
            "Epoch 276/500\n",
            "96/96 [==============================] - 1s 9ms/step - loss: 0.0059 - acc: 0.3935\n",
            "Epoch 277/500\n",
            "96/96 [==============================] - 1s 9ms/step - loss: 0.0059 - acc: 0.4030\n",
            "Epoch 278/500\n",
            "96/96 [==============================] - 1s 9ms/step - loss: 0.0057 - acc: 0.4272\n",
            "Epoch 279/500\n",
            "96/96 [==============================] - 1s 9ms/step - loss: 0.0055 - acc: 0.4084\n",
            "Epoch 280/500\n",
            "96/96 [==============================] - 1s 9ms/step - loss: 0.0058 - acc: 0.4098\n",
            "Epoch 281/500\n",
            "96/96 [==============================] - 1s 9ms/step - loss: 0.0057 - acc: 0.4191\n",
            "Epoch 282/500\n",
            "96/96 [==============================] - 1s 9ms/step - loss: 0.0057 - acc: 0.4317\n",
            "Epoch 283/500\n",
            "96/96 [==============================] - 1s 9ms/step - loss: 0.0057 - acc: 0.4110\n",
            "Epoch 284/500\n",
            "96/96 [==============================] - 1s 9ms/step - loss: 0.0056 - acc: 0.4256\n",
            "Epoch 285/500\n",
            "96/96 [==============================] - 1s 9ms/step - loss: 0.0058 - acc: 0.4052\n",
            "Epoch 286/500\n",
            "96/96 [==============================] - 1s 9ms/step - loss: 0.0057 - acc: 0.4207\n",
            "Epoch 287/500\n",
            "96/96 [==============================] - 1s 9ms/step - loss: 0.0058 - acc: 0.4012\n",
            "Epoch 288/500\n",
            "96/96 [==============================] - 1s 9ms/step - loss: 0.0057 - acc: 0.4123\n",
            "Epoch 289/500\n",
            "96/96 [==============================] - 1s 9ms/step - loss: 0.0057 - acc: 0.4229\n",
            "Epoch 290/500\n",
            "96/96 [==============================] - 1s 9ms/step - loss: 0.0057 - acc: 0.3921\n",
            "Epoch 291/500\n",
            "96/96 [==============================] - 1s 9ms/step - loss: 0.0057 - acc: 0.4222\n",
            "Epoch 292/500\n",
            "96/96 [==============================] - 1s 9ms/step - loss: 0.0056 - acc: 0.4072\n",
            "Epoch 293/500\n",
            "96/96 [==============================] - 1s 9ms/step - loss: 0.0060 - acc: 0.4089\n",
            "Epoch 294/500\n",
            "96/96 [==============================] - 1s 9ms/step - loss: 0.0060 - acc: 0.4152\n",
            "Epoch 295/500\n",
            "96/96 [==============================] - 1s 9ms/step - loss: 0.0060 - acc: 0.4272\n",
            "Epoch 296/500\n",
            "96/96 [==============================] - 1s 9ms/step - loss: 0.0060 - acc: 0.3800\n",
            "Epoch 297/500\n",
            "96/96 [==============================] - 1s 9ms/step - loss: 0.0058 - acc: 0.4105\n",
            "Epoch 298/500\n",
            "96/96 [==============================] - 1s 9ms/step - loss: 0.0056 - acc: 0.4100\n",
            "Epoch 299/500\n",
            "96/96 [==============================] - 1s 9ms/step - loss: 0.0057 - acc: 0.4040\n",
            "Epoch 300/500\n",
            "96/96 [==============================] - 1s 9ms/step - loss: 0.0057 - acc: 0.4046\n",
            "Epoch 301/500\n",
            "96/96 [==============================] - 1s 9ms/step - loss: 0.0057 - acc: 0.4086\n",
            "Epoch 302/500\n",
            "96/96 [==============================] - 1s 9ms/step - loss: 0.0060 - acc: 0.3933\n",
            "Epoch 303/500\n",
            "96/96 [==============================] - 1s 9ms/step - loss: 0.0057 - acc: 0.4109\n",
            "Epoch 304/500\n",
            "96/96 [==============================] - 1s 9ms/step - loss: 0.0059 - acc: 0.4256\n",
            "Epoch 305/500\n",
            "96/96 [==============================] - 1s 9ms/step - loss: 0.0060 - acc: 0.3529\n",
            "Epoch 306/500\n",
            "96/96 [==============================] - 1s 9ms/step - loss: 0.0058 - acc: 0.4005\n",
            "Epoch 307/500\n",
            "96/96 [==============================] - 1s 9ms/step - loss: 0.0058 - acc: 0.4242\n",
            "Epoch 308/500\n",
            "96/96 [==============================] - 1s 9ms/step - loss: 0.0057 - acc: 0.4162\n",
            "Epoch 309/500\n",
            "96/96 [==============================] - 1s 9ms/step - loss: 0.0058 - acc: 0.4152\n",
            "Epoch 310/500\n",
            "96/96 [==============================] - 1s 9ms/step - loss: 0.0058 - acc: 0.4231\n",
            "Epoch 311/500\n",
            "96/96 [==============================] - 1s 9ms/step - loss: 0.0058 - acc: 0.4166\n",
            "Epoch 312/500\n",
            "96/96 [==============================] - 1s 9ms/step - loss: 0.0055 - acc: 0.3975\n",
            "Epoch 313/500\n",
            "96/96 [==============================] - 1s 9ms/step - loss: 0.0057 - acc: 0.4008\n",
            "Epoch 314/500\n",
            "96/96 [==============================] - 1s 9ms/step - loss: 0.0060 - acc: 0.4173\n",
            "Epoch 315/500\n",
            "96/96 [==============================] - 1s 9ms/step - loss: 0.0056 - acc: 0.4150\n",
            "Epoch 316/500\n",
            "96/96 [==============================] - 1s 9ms/step - loss: 0.0061 - acc: 0.4011\n",
            "Epoch 317/500\n",
            "96/96 [==============================] - 1s 9ms/step - loss: 0.0061 - acc: 0.4001\n",
            "Epoch 318/500\n",
            "96/96 [==============================] - 1s 9ms/step - loss: 0.0057 - acc: 0.4071\n",
            "Epoch 319/500\n",
            "96/96 [==============================] - 1s 9ms/step - loss: 0.0056 - acc: 0.4164\n",
            "Epoch 320/500\n",
            "96/96 [==============================] - 1s 9ms/step - loss: 0.0055 - acc: 0.4154\n",
            "Epoch 321/500\n",
            "96/96 [==============================] - 1s 9ms/step - loss: 0.0056 - acc: 0.4107\n",
            "Epoch 322/500\n",
            "96/96 [==============================] - 1s 9ms/step - loss: 0.0056 - acc: 0.3884\n",
            "Epoch 323/500\n",
            "96/96 [==============================] - 1s 9ms/step - loss: 0.0059 - acc: 0.3823\n",
            "Epoch 324/500\n",
            "96/96 [==============================] - 1s 9ms/step - loss: 0.0058 - acc: 0.4096\n",
            "Epoch 325/500\n",
            "96/96 [==============================] - 1s 9ms/step - loss: 0.0056 - acc: 0.4367\n",
            "Epoch 326/500\n",
            "96/96 [==============================] - 1s 9ms/step - loss: 0.0060 - acc: 0.4128\n",
            "Epoch 327/500\n",
            "96/96 [==============================] - 1s 9ms/step - loss: 0.0056 - acc: 0.4098\n",
            "Epoch 328/500\n",
            "96/96 [==============================] - 1s 9ms/step - loss: 0.0060 - acc: 0.4130\n",
            "Epoch 329/500\n",
            "96/96 [==============================] - 1s 9ms/step - loss: 0.0058 - acc: 0.3985\n",
            "Epoch 330/500\n",
            "96/96 [==============================] - 1s 9ms/step - loss: 0.0058 - acc: 0.4009\n",
            "Epoch 331/500\n",
            "96/96 [==============================] - 1s 9ms/step - loss: 0.0059 - acc: 0.4134\n",
            "Epoch 332/500\n",
            "96/96 [==============================] - 1s 9ms/step - loss: 0.0058 - acc: 0.4075\n",
            "Epoch 333/500\n",
            "96/96 [==============================] - 1s 9ms/step - loss: 0.0056 - acc: 0.3861\n",
            "Epoch 334/500\n",
            "96/96 [==============================] - 1s 9ms/step - loss: 0.0056 - acc: 0.3959\n",
            "Epoch 335/500\n",
            "96/96 [==============================] - 1s 9ms/step - loss: 0.0058 - acc: 0.4227\n",
            "Epoch 336/500\n",
            "96/96 [==============================] - 1s 9ms/step - loss: 0.0056 - acc: 0.4084\n",
            "Epoch 337/500\n",
            "96/96 [==============================] - 1s 9ms/step - loss: 0.0057 - acc: 0.4105\n",
            "Epoch 338/500\n",
            "96/96 [==============================] - 1s 9ms/step - loss: 0.0057 - acc: 0.4096\n",
            "Epoch 339/500\n",
            "96/96 [==============================] - 1s 9ms/step - loss: 0.0058 - acc: 0.4171\n",
            "Epoch 340/500\n",
            "96/96 [==============================] - 1s 9ms/step - loss: 0.0061 - acc: 0.4158\n",
            "Epoch 341/500\n",
            "96/96 [==============================] - 1s 9ms/step - loss: 0.0058 - acc: 0.3953\n",
            "Epoch 342/500\n",
            "96/96 [==============================] - 1s 9ms/step - loss: 0.0058 - acc: 0.4254\n",
            "Epoch 343/500\n",
            "96/96 [==============================] - 1s 9ms/step - loss: 0.0057 - acc: 0.4311\n",
            "Epoch 344/500\n",
            "96/96 [==============================] - 1s 9ms/step - loss: 0.0057 - acc: 0.4258\n",
            "Epoch 345/500\n",
            "96/96 [==============================] - 1s 9ms/step - loss: 0.0057 - acc: 0.3920\n",
            "Epoch 346/500\n",
            "96/96 [==============================] - 1s 9ms/step - loss: 0.0057 - acc: 0.4288\n",
            "Epoch 347/500\n",
            "96/96 [==============================] - 1s 9ms/step - loss: 0.0058 - acc: 0.4129\n",
            "Epoch 348/500\n",
            "96/96 [==============================] - 1s 9ms/step - loss: 0.0059 - acc: 0.4206\n",
            "Epoch 349/500\n",
            "96/96 [==============================] - 1s 9ms/step - loss: 0.0056 - acc: 0.4128\n",
            "Epoch 350/500\n",
            "96/96 [==============================] - 1s 9ms/step - loss: 0.0061 - acc: 0.4346\n",
            "Epoch 351/500\n",
            "96/96 [==============================] - 1s 9ms/step - loss: 0.0060 - acc: 0.4234\n",
            "Epoch 352/500\n",
            "96/96 [==============================] - 1s 9ms/step - loss: 0.0058 - acc: 0.4005\n",
            "Epoch 353/500\n",
            "96/96 [==============================] - 1s 9ms/step - loss: 0.0056 - acc: 0.4235\n",
            "Epoch 354/500\n",
            "96/96 [==============================] - 1s 9ms/step - loss: 0.0055 - acc: 0.4315\n",
            "Epoch 355/500\n",
            "96/96 [==============================] - 1s 9ms/step - loss: 0.0055 - acc: 0.4181\n",
            "Epoch 356/500\n",
            "96/96 [==============================] - 1s 9ms/step - loss: 0.0056 - acc: 0.4109\n",
            "Epoch 357/500\n",
            "96/96 [==============================] - 1s 9ms/step - loss: 0.0058 - acc: 0.4240\n",
            "Epoch 358/500\n",
            "96/96 [==============================] - 1s 9ms/step - loss: 0.0059 - acc: 0.3767\n",
            "Epoch 359/500\n",
            "96/96 [==============================] - 1s 9ms/step - loss: 0.0057 - acc: 0.4100\n",
            "Epoch 360/500\n",
            "96/96 [==============================] - 1s 9ms/step - loss: 0.0055 - acc: 0.3848\n",
            "Epoch 361/500\n",
            "96/96 [==============================] - 1s 9ms/step - loss: 0.0057 - acc: 0.4211\n",
            "Epoch 362/500\n",
            "96/96 [==============================] - 1s 9ms/step - loss: 0.0056 - acc: 0.4171\n",
            "Epoch 363/500\n",
            "96/96 [==============================] - 1s 9ms/step - loss: 0.0055 - acc: 0.4211\n",
            "Epoch 364/500\n",
            "96/96 [==============================] - 1s 9ms/step - loss: 0.0059 - acc: 0.3990\n",
            "Epoch 365/500\n",
            "96/96 [==============================] - 1s 9ms/step - loss: 0.0058 - acc: 0.4132\n",
            "Epoch 366/500\n",
            "96/96 [==============================] - 1s 9ms/step - loss: 0.0057 - acc: 0.4121\n",
            "Epoch 367/500\n",
            "96/96 [==============================] - 1s 9ms/step - loss: 0.0057 - acc: 0.4316\n",
            "Epoch 368/500\n",
            "96/96 [==============================] - 1s 9ms/step - loss: 0.0056 - acc: 0.4057\n",
            "Epoch 369/500\n",
            "96/96 [==============================] - 1s 9ms/step - loss: 0.0058 - acc: 0.4076\n",
            "Epoch 370/500\n",
            "96/96 [==============================] - 1s 9ms/step - loss: 0.0057 - acc: 0.4119\n",
            "Epoch 371/500\n",
            "96/96 [==============================] - 1s 9ms/step - loss: 0.0055 - acc: 0.4144\n",
            "Epoch 372/500\n",
            "96/96 [==============================] - 1s 9ms/step - loss: 0.0058 - acc: 0.4262\n",
            "Epoch 373/500\n",
            "96/96 [==============================] - 1s 9ms/step - loss: 0.0058 - acc: 0.3860\n",
            "Epoch 374/500\n",
            "96/96 [==============================] - 1s 9ms/step - loss: 0.0058 - acc: 0.4170\n",
            "Epoch 375/500\n",
            "96/96 [==============================] - 1s 9ms/step - loss: 0.0056 - acc: 0.4135\n",
            "Epoch 376/500\n",
            "96/96 [==============================] - 1s 9ms/step - loss: 0.0056 - acc: 0.3785\n",
            "Epoch 377/500\n",
            "96/96 [==============================] - 1s 9ms/step - loss: 0.0057 - acc: 0.4158\n",
            "Epoch 378/500\n",
            "96/96 [==============================] - 1s 9ms/step - loss: 0.0057 - acc: 0.4092\n",
            "Epoch 379/500\n",
            "96/96 [==============================] - 1s 9ms/step - loss: 0.0057 - acc: 0.4139\n",
            "Epoch 380/500\n",
            "96/96 [==============================] - 1s 9ms/step - loss: 0.0055 - acc: 0.4116\n",
            "Epoch 381/500\n",
            "96/96 [==============================] - 1s 9ms/step - loss: 0.0058 - acc: 0.3974\n",
            "Epoch 382/500\n",
            "96/96 [==============================] - 1s 9ms/step - loss: 0.0056 - acc: 0.4256\n",
            "Epoch 383/500\n",
            "96/96 [==============================] - 1s 9ms/step - loss: 0.0058 - acc: 0.4140\n",
            "Epoch 384/500\n",
            "96/96 [==============================] - 1s 9ms/step - loss: 0.0058 - acc: 0.4127\n",
            "Epoch 385/500\n",
            "96/96 [==============================] - 1s 9ms/step - loss: 0.0058 - acc: 0.4245\n",
            "Epoch 386/500\n",
            "96/96 [==============================] - 1s 9ms/step - loss: 0.0060 - acc: 0.4099\n",
            "Epoch 387/500\n",
            "96/96 [==============================] - 1s 9ms/step - loss: 0.0055 - acc: 0.4268\n",
            "Epoch 388/500\n",
            "96/96 [==============================] - 1s 9ms/step - loss: 0.0057 - acc: 0.4352\n",
            "Epoch 389/500\n",
            "96/96 [==============================] - 1s 9ms/step - loss: 0.0058 - acc: 0.4012\n",
            "Epoch 390/500\n",
            "96/96 [==============================] - 1s 9ms/step - loss: 0.0059 - acc: 0.4124\n",
            "Epoch 391/500\n",
            "96/96 [==============================] - 1s 9ms/step - loss: 0.0055 - acc: 0.4121\n",
            "Epoch 392/500\n",
            "96/96 [==============================] - 1s 9ms/step - loss: 0.0056 - acc: 0.4156\n",
            "Epoch 393/500\n",
            "96/96 [==============================] - 1s 9ms/step - loss: 0.0058 - acc: 0.4152\n",
            "Epoch 394/500\n",
            "96/96 [==============================] - 1s 9ms/step - loss: 0.0057 - acc: 0.4152\n",
            "Epoch 395/500\n",
            "96/96 [==============================] - 1s 9ms/step - loss: 0.0057 - acc: 0.4019\n",
            "Epoch 396/500\n",
            "96/96 [==============================] - 1s 9ms/step - loss: 0.0061 - acc: 0.4106\n",
            "Epoch 397/500\n",
            "96/96 [==============================] - 1s 9ms/step - loss: 0.0056 - acc: 0.4273\n",
            "Epoch 398/500\n",
            "96/96 [==============================] - 1s 9ms/step - loss: 0.0060 - acc: 0.4329\n",
            "Epoch 399/500\n",
            "96/96 [==============================] - 1s 9ms/step - loss: 0.0058 - acc: 0.4296\n",
            "Epoch 400/500\n",
            "96/96 [==============================] - 1s 9ms/step - loss: 0.0058 - acc: 0.4381\n",
            "Epoch 401/500\n",
            "96/96 [==============================] - 1s 9ms/step - loss: 0.0057 - acc: 0.4295\n",
            "Epoch 402/500\n",
            "96/96 [==============================] - 1s 9ms/step - loss: 0.0056 - acc: 0.4159\n",
            "Epoch 403/500\n",
            "96/96 [==============================] - 1s 9ms/step - loss: 0.0057 - acc: 0.4114\n",
            "Epoch 404/500\n",
            "96/96 [==============================] - 1s 9ms/step - loss: 0.0059 - acc: 0.4232\n",
            "Epoch 405/500\n",
            "96/96 [==============================] - 1s 9ms/step - loss: 0.0059 - acc: 0.4144\n",
            "Epoch 406/500\n",
            "96/96 [==============================] - 1s 9ms/step - loss: 0.0056 - acc: 0.4181\n",
            "Epoch 407/500\n",
            "96/96 [==============================] - 1s 9ms/step - loss: 0.0061 - acc: 0.4075\n",
            "Epoch 408/500\n",
            "96/96 [==============================] - 1s 9ms/step - loss: 0.0056 - acc: 0.4152\n",
            "Epoch 409/500\n",
            "96/96 [==============================] - 1s 9ms/step - loss: 0.0057 - acc: 0.4141\n",
            "Epoch 410/500\n",
            "96/96 [==============================] - 1s 9ms/step - loss: 0.0057 - acc: 0.4072\n",
            "Epoch 411/500\n",
            "96/96 [==============================] - 1s 9ms/step - loss: 0.0057 - acc: 0.4226\n",
            "Epoch 412/500\n",
            "96/96 [==============================] - 1s 9ms/step - loss: 0.0057 - acc: 0.4324\n",
            "Epoch 413/500\n",
            "96/96 [==============================] - 1s 9ms/step - loss: 0.0057 - acc: 0.4215\n",
            "Epoch 414/500\n",
            "96/96 [==============================] - 1s 9ms/step - loss: 0.0057 - acc: 0.4077\n",
            "Epoch 415/500\n",
            "96/96 [==============================] - 1s 9ms/step - loss: 0.0058 - acc: 0.4192\n",
            "Epoch 416/500\n",
            "96/96 [==============================] - 1s 9ms/step - loss: 0.0058 - acc: 0.3893\n",
            "Epoch 417/500\n",
            "96/96 [==============================] - 1s 9ms/step - loss: 0.0059 - acc: 0.4335\n",
            "Epoch 418/500\n",
            "96/96 [==============================] - 1s 9ms/step - loss: 0.0058 - acc: 0.4175\n",
            "Epoch 419/500\n",
            "96/96 [==============================] - 1s 9ms/step - loss: 0.0057 - acc: 0.4283\n",
            "Epoch 420/500\n",
            "96/96 [==============================] - 1s 9ms/step - loss: 0.0059 - acc: 0.4093\n",
            "Epoch 421/500\n",
            "96/96 [==============================] - 1s 9ms/step - loss: 0.0056 - acc: 0.4184\n",
            "Epoch 422/500\n",
            "96/96 [==============================] - 1s 9ms/step - loss: 0.0058 - acc: 0.4214\n",
            "Epoch 423/500\n",
            "96/96 [==============================] - 1s 9ms/step - loss: 0.0057 - acc: 0.4054\n",
            "Epoch 424/500\n",
            "96/96 [==============================] - 1s 9ms/step - loss: 0.0059 - acc: 0.4273\n",
            "Epoch 425/500\n",
            "96/96 [==============================] - 1s 9ms/step - loss: 0.0056 - acc: 0.3926\n",
            "Epoch 426/500\n",
            "96/96 [==============================] - 1s 9ms/step - loss: 0.0058 - acc: 0.4126\n",
            "Epoch 427/500\n",
            "96/96 [==============================] - 1s 9ms/step - loss: 0.0057 - acc: 0.3962\n",
            "Epoch 428/500\n",
            "96/96 [==============================] - 1s 9ms/step - loss: 0.0057 - acc: 0.4145\n",
            "Epoch 429/500\n",
            "96/96 [==============================] - 1s 9ms/step - loss: 0.0055 - acc: 0.4169\n",
            "Epoch 430/500\n",
            "96/96 [==============================] - 1s 9ms/step - loss: 0.0058 - acc: 0.4305\n",
            "Epoch 431/500\n",
            "96/96 [==============================] - 1s 10ms/step - loss: 0.0058 - acc: 0.4053\n",
            "Epoch 432/500\n",
            "96/96 [==============================] - 1s 9ms/step - loss: 0.0060 - acc: 0.4179\n",
            "Epoch 433/500\n",
            "96/96 [==============================] - 1s 9ms/step - loss: 0.0058 - acc: 0.4233\n",
            "Epoch 434/500\n",
            "96/96 [==============================] - 1s 9ms/step - loss: 0.0058 - acc: 0.4260\n",
            "Epoch 435/500\n",
            "96/96 [==============================] - 1s 9ms/step - loss: 0.0057 - acc: 0.4134\n",
            "Epoch 436/500\n",
            "96/96 [==============================] - 1s 9ms/step - loss: 0.0059 - acc: 0.4281\n",
            "Epoch 437/500\n",
            "96/96 [==============================] - 1s 10ms/step - loss: 0.0057 - acc: 0.4158\n",
            "Epoch 438/500\n",
            "96/96 [==============================] - 1s 9ms/step - loss: 0.0057 - acc: 0.3932\n",
            "Epoch 439/500\n",
            "96/96 [==============================] - 1s 9ms/step - loss: 0.0057 - acc: 0.3979\n",
            "Epoch 440/500\n",
            "96/96 [==============================] - 1s 9ms/step - loss: 0.0055 - acc: 0.4224\n",
            "Epoch 441/500\n",
            "96/96 [==============================] - 1s 9ms/step - loss: 0.0060 - acc: 0.3861\n",
            "Epoch 442/500\n",
            "96/96 [==============================] - 1s 9ms/step - loss: 0.0058 - acc: 0.4224\n",
            "Epoch 443/500\n",
            "96/96 [==============================] - 1s 9ms/step - loss: 0.0058 - acc: 0.4215\n",
            "Epoch 444/500\n",
            "96/96 [==============================] - 1s 9ms/step - loss: 0.0058 - acc: 0.4115\n",
            "Epoch 445/500\n",
            "96/96 [==============================] - 1s 10ms/step - loss: 0.0055 - acc: 0.4088\n",
            "Epoch 446/500\n",
            "96/96 [==============================] - 1s 9ms/step - loss: 0.0057 - acc: 0.4068\n",
            "Epoch 447/500\n",
            "96/96 [==============================] - 1s 9ms/step - loss: 0.0058 - acc: 0.4040\n",
            "Epoch 448/500\n",
            "96/96 [==============================] - 1s 9ms/step - loss: 0.0058 - acc: 0.4411\n",
            "Epoch 449/500\n",
            "96/96 [==============================] - 1s 9ms/step - loss: 0.0058 - acc: 0.4070\n",
            "Epoch 450/500\n",
            "96/96 [==============================] - 1s 9ms/step - loss: 0.0059 - acc: 0.4067\n",
            "Epoch 451/500\n",
            "96/96 [==============================] - 1s 10ms/step - loss: 0.0058 - acc: 0.4199\n",
            "Epoch 452/500\n",
            "96/96 [==============================] - 1s 9ms/step - loss: 0.0057 - acc: 0.4259\n",
            "Epoch 453/500\n",
            "96/96 [==============================] - 1s 9ms/step - loss: 0.0059 - acc: 0.4097\n",
            "Epoch 454/500\n",
            "96/96 [==============================] - 1s 9ms/step - loss: 0.0060 - acc: 0.4237\n",
            "Epoch 455/500\n",
            "96/96 [==============================] - 1s 9ms/step - loss: 0.0058 - acc: 0.4031\n",
            "Epoch 456/500\n",
            "96/96 [==============================] - 1s 9ms/step - loss: 0.0058 - acc: 0.4040\n",
            "Epoch 457/500\n",
            "96/96 [==============================] - 1s 9ms/step - loss: 0.0057 - acc: 0.4084\n",
            "Epoch 458/500\n",
            "96/96 [==============================] - 1s 9ms/step - loss: 0.0055 - acc: 0.4002\n",
            "Epoch 459/500\n",
            "96/96 [==============================] - 1s 9ms/step - loss: 0.0054 - acc: 0.4250\n",
            "Epoch 460/500\n",
            "96/96 [==============================] - 1s 9ms/step - loss: 0.0055 - acc: 0.4246\n",
            "Epoch 461/500\n",
            "96/96 [==============================] - 1s 9ms/step - loss: 0.0058 - acc: 0.4198\n",
            "Epoch 462/500\n",
            "96/96 [==============================] - 1s 9ms/step - loss: 0.0059 - acc: 0.3875\n",
            "Epoch 463/500\n",
            "96/96 [==============================] - 1s 9ms/step - loss: 0.0056 - acc: 0.4142\n",
            "Epoch 464/500\n",
            "96/96 [==============================] - 1s 9ms/step - loss: 0.0058 - acc: 0.4097\n",
            "Epoch 465/500\n",
            "96/96 [==============================] - 1s 9ms/step - loss: 0.0056 - acc: 0.4205\n",
            "Epoch 466/500\n",
            "96/96 [==============================] - 1s 9ms/step - loss: 0.0057 - acc: 0.4273\n",
            "Epoch 467/500\n",
            "96/96 [==============================] - 1s 9ms/step - loss: 0.0054 - acc: 0.4246\n",
            "Epoch 468/500\n",
            "96/96 [==============================] - 1s 9ms/step - loss: 0.0056 - acc: 0.4120\n",
            "Epoch 469/500\n",
            "96/96 [==============================] - 1s 9ms/step - loss: 0.0060 - acc: 0.4156\n",
            "Epoch 470/500\n",
            "96/96 [==============================] - 1s 9ms/step - loss: 0.0057 - acc: 0.4225\n",
            "Epoch 471/500\n",
            "96/96 [==============================] - 1s 9ms/step - loss: 0.0057 - acc: 0.4231\n",
            "Epoch 472/500\n",
            "96/96 [==============================] - 1s 9ms/step - loss: 0.0057 - acc: 0.4052\n",
            "Epoch 473/500\n",
            "96/96 [==============================] - 1s 9ms/step - loss: 0.0056 - acc: 0.4340\n",
            "Epoch 474/500\n",
            "96/96 [==============================] - 1s 9ms/step - loss: 0.0057 - acc: 0.3915\n",
            "Epoch 475/500\n",
            "96/96 [==============================] - 1s 9ms/step - loss: 0.0058 - acc: 0.4208\n",
            "Epoch 476/500\n",
            "96/96 [==============================] - 1s 9ms/step - loss: 0.0058 - acc: 0.4196\n",
            "Epoch 477/500\n",
            "96/96 [==============================] - 1s 9ms/step - loss: 0.0057 - acc: 0.4229\n",
            "Epoch 478/500\n",
            "96/96 [==============================] - 1s 9ms/step - loss: 0.0056 - acc: 0.4178\n",
            "Epoch 479/500\n",
            "96/96 [==============================] - 1s 9ms/step - loss: 0.0057 - acc: 0.4067\n",
            "Epoch 480/500\n",
            "96/96 [==============================] - 1s 9ms/step - loss: 0.0056 - acc: 0.4138\n",
            "Epoch 481/500\n",
            "96/96 [==============================] - 1s 9ms/step - loss: 0.0056 - acc: 0.4265\n",
            "Epoch 482/500\n",
            "96/96 [==============================] - 1s 9ms/step - loss: 0.0056 - acc: 0.4251\n",
            "Epoch 483/500\n",
            "96/96 [==============================] - 1s 9ms/step - loss: 0.0059 - acc: 0.4300\n",
            "Epoch 484/500\n",
            "96/96 [==============================] - 1s 9ms/step - loss: 0.0058 - acc: 0.4129\n",
            "Epoch 485/500\n",
            "96/96 [==============================] - 1s 9ms/step - loss: 0.0057 - acc: 0.4268\n",
            "Epoch 486/500\n",
            "96/96 [==============================] - 1s 9ms/step - loss: 0.0059 - acc: 0.4083\n",
            "Epoch 487/500\n",
            "96/96 [==============================] - 1s 9ms/step - loss: 0.0054 - acc: 0.4252\n",
            "Epoch 488/500\n",
            "96/96 [==============================] - 1s 9ms/step - loss: 0.0055 - acc: 0.4110\n",
            "Epoch 489/500\n",
            "96/96 [==============================] - 1s 9ms/step - loss: 0.0055 - acc: 0.3945\n",
            "Epoch 490/500\n",
            "96/96 [==============================] - 1s 9ms/step - loss: 0.0056 - acc: 0.3981\n",
            "Epoch 491/500\n",
            "96/96 [==============================] - 1s 9ms/step - loss: 0.0058 - acc: 0.4117\n",
            "Epoch 492/500\n",
            "96/96 [==============================] - 1s 9ms/step - loss: 0.0056 - acc: 0.3992\n",
            "Epoch 493/500\n",
            "96/96 [==============================] - 1s 10ms/step - loss: 0.0055 - acc: 0.4316\n",
            "Epoch 494/500\n",
            "96/96 [==============================] - 1s 9ms/step - loss: 0.0056 - acc: 0.4006\n",
            "Epoch 495/500\n",
            "96/96 [==============================] - 1s 9ms/step - loss: 0.0057 - acc: 0.4149\n",
            "Epoch 496/500\n",
            "96/96 [==============================] - 1s 9ms/step - loss: 0.0058 - acc: 0.4184\n",
            "Epoch 497/500\n",
            "96/96 [==============================] - 1s 9ms/step - loss: 0.0057 - acc: 0.4073\n",
            "Epoch 498/500\n",
            "96/96 [==============================] - 1s 9ms/step - loss: 0.0060 - acc: 0.4114\n",
            "Epoch 499/500\n",
            "96/96 [==============================] - 1s 9ms/step - loss: 0.0059 - acc: 0.4263\n",
            "Epoch 500/500\n",
            "96/96 [==============================] - 1s 9ms/step - loss: 0.0060 - acc: 0.4148\n"
          ],
          "name": "stdout"
        },
        {
          "output_type": "execute_result",
          "data": {
            "text/plain": [
              "<tensorflow.python.keras.callbacks.History at 0x7fda58a9c748>"
            ]
          },
          "metadata": {
            "tags": []
          },
          "execution_count": 55
        }
      ]
    },
    {
      "cell_type": "code",
      "metadata": {
        "id": "Z1qlrOEN30v4"
      },
      "source": [
        "# read test dataset\r\n",
        "testdataset = pd.read_csv('testing.csv')"
      ],
      "execution_count": 57,
      "outputs": []
    },
    {
      "cell_type": "code",
      "metadata": {
        "colab": {
          "base_uri": "https://localhost:8080/"
        },
        "id": "Ex2Xe5HG6FU-",
        "outputId": "40dd3da8-9e93-465b-864b-b3585d1bc224"
      },
      "source": [
        "#get only the temperature column\r\n",
        "testdataset.iloc[:1,1:2].values"
      ],
      "execution_count": 80,
      "outputs": [
        {
          "output_type": "execute_result",
          "data": {
            "text/plain": [
              "array([[73.4]])"
            ]
          },
          "metadata": {
            "tags": []
          },
          "execution_count": 80
        }
      ]
    },
    {
      "cell_type": "code",
      "metadata": {
        "id": "oU2izeJS394r"
      },
      "source": [
        "real_temperature = pd.read_csv('testing.csv')\r\n",
        "real_temperature = real_temperature.iloc[:,1:2].values\r\n",
        "testing = sc.transform(testdataset)\r\n",
        "testing = np.array(testing)\r\n",
        "testing = np.reshape(testing,(testing.shape[1],testing.shape[0],1))"
      ],
      "execution_count": 60,
      "outputs": []
    },
    {
      "cell_type": "code",
      "metadata": {
        "id": "nakRBtT86XdA"
      },
      "source": [
        "predicted_temperature = regressor.predict(testing)\r\n",
        "predicted_temperature = sc.inverse_transform(predicted_temperature)\r\n",
        "predicted_temperature = np.reshape(predicted_temperature,(predicted_temperature.shape[1],predicted_temperature.shape[0]))"
      ],
      "execution_count": 73,
      "outputs": []
    },
    {
      "cell_type": "code",
      "metadata": {
        "colab": {
          "base_uri": "https://localhost:8080/"
        },
        "id": "XBmUBsWw6nZz",
        "outputId": "626e982a-666b-4bcf-8a15-40fc306e9f02"
      },
      "source": [
        "len(predicted_temperature)"
      ],
      "execution_count": 78,
      "outputs": [
        {
          "output_type": "execute_result",
          "data": {
            "text/plain": [
              "4"
            ]
          },
          "metadata": {
            "tags": []
          },
          "execution_count": 78
        }
      ]
    },
    {
      "cell_type": "code",
      "metadata": {
        "colab": {
          "base_uri": "https://localhost:8080/"
        },
        "id": "LERK1EA36pWj",
        "outputId": "aa4644b2-6a7a-44bc-c6be-f5903b2e13dd"
      },
      "source": [
        "real_temperature = pd.read_csv('testing.csv')\r\n",
        "real_temperature.iloc[31:34].values"
      ],
      "execution_count": 69,
      "outputs": [
        {
          "output_type": "execute_result",
          "data": {
            "text/plain": [
              "array([[nan, 81.0]], dtype=object)"
            ]
          },
          "metadata": {
            "tags": []
          },
          "execution_count": 69
        }
      ]
    },
    {
      "cell_type": "code",
      "metadata": {
        "id": "nLeXWHUj8LSw"
      },
      "source": [
        "predicts = []\r\n",
        "times = []\r\n",
        "\r\n",
        "for i in range(30):\r\n",
        "  test = testdataset.iloc[:i+1,1:2].values\r\n",
        "  testing = sc.transform(test)\r\n",
        "  testing = np.array(testing)\r\n",
        "\r\n",
        "  testing = np.reshape(testing,(testing.shape[1],testing.shape[0],1))\r\n",
        "  predicted_temperature = regressor.predict(testing)\r\n",
        "  predicted_temperature = sc.inverse_transform(predicted_temperature)\r\n",
        "  predicted_temperature = np.reshape(predicted_temperature,(predicted_temperature.shape[1],predicted_temperature.shape[0]))\r\n",
        "  #time0 = 0\r\n",
        "  #for j in predicted_temperature:\r\n",
        "    #predicts.append(j[0])\r\n",
        "    #times.append(i + time0 + 1)\r\n",
        "    #time0 += 1\r\n",
        "  predicts.append(predicted_temperature[2][0])  \r\n",
        "  times.append(i+1)"
      ],
      "execution_count": 58,
      "outputs": []
    },
    {
      "cell_type": "code",
      "metadata": {
        "colab": {
          "base_uri": "https://localhost:8080/"
        },
        "id": "iYEfQs_N_kSb",
        "outputId": "5af485fb-8670-4187-b8b7-afdaecdf2c54"
      },
      "source": [
        "times"
      ],
      "execution_count": 115,
      "outputs": [
        {
          "output_type": "execute_result",
          "data": {
            "text/plain": [
              "[0,\n",
              " 1,\n",
              " 2,\n",
              " 3,\n",
              " 4,\n",
              " 5,\n",
              " 6,\n",
              " 7,\n",
              " 8,\n",
              " 9,\n",
              " 10,\n",
              " 11,\n",
              " 12,\n",
              " 13,\n",
              " 14,\n",
              " 15,\n",
              " 16,\n",
              " 17,\n",
              " 18,\n",
              " 19,\n",
              " 20,\n",
              " 21,\n",
              " 22,\n",
              " 23,\n",
              " 24,\n",
              " 25,\n",
              " 26,\n",
              " 27,\n",
              " 28,\n",
              " 29]"
            ]
          },
          "metadata": {
            "tags": []
          },
          "execution_count": 115
        }
      ]
    },
    {
      "cell_type": "code",
      "metadata": {
        "colab": {
          "base_uri": "https://localhost:8080/",
          "height": 299
        },
        "id": "VFY0cAwB9emd",
        "outputId": "e2c1760e-09af-425a-b572-4a5ed128374e"
      },
      "source": [
        "import matplotlib.pyplot as plt\r\n",
        "plt.plot(times, predicts, 'r', range(32), real_temperature)"
      ],
      "execution_count": 61,
      "outputs": [
        {
          "output_type": "execute_result",
          "data": {
            "text/plain": [
              "[<matplotlib.lines.Line2D at 0x7fda61228080>,\n",
              " <matplotlib.lines.Line2D at 0x7fda60123c18>]"
            ]
          },
          "metadata": {
            "tags": []
          },
          "execution_count": 61
        },
        {
          "output_type": "display_data",
          "data": {
            "image/png": "[encoded data removed]",
            "text/plain": [
              "<Figure size 432x288 with 1 Axes>"
            ]
          },
          "metadata": {
            "tags": [],
            "needs_background": "light"
          }
        }
      ]
    },
    {
      "cell_type": "code",
      "metadata": {
        "id": "mvX-5hLg9iNa"
      },
      "source": [
        ""
      ],
      "execution_count": null,
      "outputs": []
    },
    {
      "cell_type": "markdown",
      "metadata": {
        "id": "GdGId0Z6LbhJ"
      },
      "source": [
        ""
      ]
    },
    {
      "cell_type": "code",
      "metadata": {
        "id": "gtVug0MmLbrI"
      },
      "source": [
        "import zipfile"
      ],
      "execution_count": 62,
      "outputs": []
    },
    {
      "cell_type": "code",
      "metadata": {
        "id": "mcEaIyfNLdnD"
      },
      "source": [
        "with zipfile.ZipFile('fangfufu-nanning-2016-temp-pressure.zip') as file: \r\n",
        "  file.extractall('dataset/')"
      ],
      "execution_count": 65,
      "outputs": []
    },
    {
      "cell_type": "code",
      "metadata": {
        "id": "69SR9Il4L5od"
      },
      "source": [
        "!rm -r dataset"
      ],
      "execution_count": 66,
      "outputs": []
    },
    {
      "cell_type": "code",
      "metadata": {
        "colab": {
          "base_uri": "https://localhost:8080/"
        },
        "id": "uHrSTJAXMBUn",
        "outputId": "b84ae0dd-f796-4d65-8c6b-6047b29e4831"
      },
      "source": [
        "!mv -v 'weather-data' dataset"
      ],
      "execution_count": 67,
      "outputs": [
        {
          "output_type": "stream",
          "text": [
            "renamed 'weather-data' -> 'dataset'\n"
          ],
          "name": "stdout"
        }
      ]
    },
    {
      "cell_type": "code",
      "metadata": {
        "id": "HK9MlUWFMU99"
      },
      "source": [
        "import glob, os    \r\n",
        "df = pd.concat(map(lambda file: pd.read_csv(file, header = None), glob.glob(os.path.join('dataset/', \"2016-03-01.csv\"))))"
      ],
      "execution_count": 218,
      "outputs": []
    },
    {
      "cell_type": "code",
      "metadata": {
        "id": "XSVvUcUUMbCW"
      },
      "source": [
        "df = df.iloc[:,1:5]"
      ],
      "execution_count": 219,
      "outputs": []
    },
    {
      "cell_type": "code",
      "metadata": {
        "id": "V8rC0TgmNbqZ"
      },
      "source": [
        "df.columns = ['temperature', 'pressure', 'humidity', 'datetime']"
      ],
      "execution_count": 220,
      "outputs": []
    },
    {
      "cell_type": "code",
      "metadata": {
        "colab": {
          "base_uri": "https://localhost:8080/"
        },
        "id": "8n-PpioSNGqK",
        "outputId": "ebcbbfc6-eb47-4322-bb54-ff7d69356365"
      },
      "source": [
        "df['datetime']"
      ],
      "execution_count": 120,
      "outputs": [
        {
          "output_type": "execute_result",
          "data": {
            "text/plain": [
              "0       2016-03-01 00:00:25+08:00\n",
              "1       2016-03-01 00:01:14+08:00\n",
              "2       2016-03-01 00:02:13+08:00\n",
              "3       2016-03-01 00:03:12+08:00\n",
              "4       2016-03-01 00:04:13+08:00\n",
              "                  ...            \n",
              "1435    2016-03-01 23:55:12+08:00\n",
              "1436    2016-03-01 23:56:12+08:00\n",
              "1437    2016-03-01 23:57:11+08:00\n",
              "1438    2016-03-01 23:58:11+08:00\n",
              "1439    2016-03-01 23:59:11+08:00\n",
              "Name: datetime, Length: 1440, dtype: object"
            ]
          },
          "metadata": {
            "tags": []
          },
          "execution_count": 120
        }
      ]
    },
    {
      "cell_type": "code",
      "metadata": {
        "colab": {
          "base_uri": "https://localhost:8080/"
        },
        "id": "Xs4oY5OyNsLN",
        "outputId": "573e5b5d-2cf3-42c6-de6a-caa61f5d6469"
      },
      "source": [
        "df.isna().sum()"
      ],
      "execution_count": 88,
      "outputs": [
        {
          "output_type": "execute_result",
          "data": {
            "text/plain": [
              "temperature    0\n",
              "pressure       0\n",
              "humidity       0\n",
              "datetime       0\n",
              "dtype: int64"
            ]
          },
          "metadata": {
            "tags": []
          },
          "execution_count": 88
        }
      ]
    },
    {
      "cell_type": "code",
      "metadata": {
        "id": "V0oyDGX6OUlx"
      },
      "source": [
        "training_set = df.iloc[:,0:1]"
      ],
      "execution_count": 221,
      "outputs": []
    },
    {
      "cell_type": "code",
      "metadata": {
        "colab": {
          "base_uri": "https://localhost:8080/"
        },
        "id": "gIButFKxUerJ",
        "outputId": "6cd95fcc-fec3-454f-ee68-dc199687b098"
      },
      "source": [
        "training_set.shape"
      ],
      "execution_count": 195,
      "outputs": [
        {
          "output_type": "execute_result",
          "data": {
            "text/plain": [
              "(1440, 1)"
            ]
          },
          "metadata": {
            "tags": []
          },
          "execution_count": 195
        }
      ]
    },
    {
      "cell_type": "code",
      "metadata": {
        "id": "r-K_lEhCN4xO"
      },
      "source": [
        "sc = MinMaxScaler(feature_range=(0,1))"
      ],
      "execution_count": 160,
      "outputs": []
    },
    {
      "cell_type": "code",
      "metadata": {
        "id": "xbZ2w25hODHe"
      },
      "source": [
        "training_set_scaled = sc.fit_transform(training_set)"
      ],
      "execution_count": 222,
      "outputs": []
    },
    {
      "cell_type": "code",
      "metadata": {
        "colab": {
          "base_uri": "https://localhost:8080/",
          "height": 163
        },
        "id": "gDzy5wJGO1VD",
        "outputId": "a017d543-5b86-49c2-9452-a13865a30f6b"
      },
      "source": [
        "training_set_scaled[:,2].mean()"
      ],
      "execution_count": 197,
      "outputs": [
        {
          "output_type": "error",
          "ename": "IndexError",
          "evalue": "ignored",
          "traceback": [
            "\u001b[0;31m---------------------------------------------------------------------------\u001b[0m",
            "\u001b[0;31mIndexError\u001b[0m                                Traceback (most recent call last)",
            "\u001b[0;32m<ipython-input-197-bf6961ffa3b8>\u001b[0m in \u001b[0;36m<module>\u001b[0;34m()\u001b[0m\n\u001b[0;32m----> 1\u001b[0;31m \u001b[0mtraining_set_scaled\u001b[0m\u001b[0;34m[\u001b[0m\u001b[0;34m:\u001b[0m\u001b[0;34m,\u001b[0m\u001b[0;36m2\u001b[0m\u001b[0;34m]\u001b[0m\u001b[0;34m.\u001b[0m\u001b[0mmean\u001b[0m\u001b[0;34m(\u001b[0m\u001b[0;34m)\u001b[0m\u001b[0;34m\u001b[0m\u001b[0;34m\u001b[0m\u001b[0m\n\u001b[0m",
            "\u001b[0;31mIndexError\u001b[0m: index 2 is out of bounds for axis 1 with size 1"
          ]
        }
      ]
    },
    {
      "cell_type": "code",
      "metadata": {
        "id": "zmkVoV61PCvc"
      },
      "source": [
        "x_train = []\r\n",
        "y_train = []\r\n",
        "n_future = 180 # next 3 days temperature forecast\r\n",
        "n_past =  720 # Past 30 days "
      ],
      "execution_count": 223,
      "outputs": []
    },
    {
      "cell_type": "code",
      "metadata": {
        "id": "8S9yuWT-Q9iU"
      },
      "source": [
        "for i in range(0,len(training_set_scaled)-n_past-n_future+1):\r\n",
        "    x_train.append(training_set_scaled[i : i + n_past])     \r\n",
        "    y_train.append(training_set_scaled[i + n_past : i + n_past + n_future])"
      ],
      "execution_count": 224,
      "outputs": []
    },
    {
      "cell_type": "code",
      "metadata": {
        "colab": {
          "base_uri": "https://localhost:8080/"
        },
        "id": "5tQUc2jARGju",
        "outputId": "7458938b-9597-4f28-f680-3e6310e0b181"
      },
      "source": [
        "len(x_train[1])"
      ],
      "execution_count": 165,
      "outputs": [
        {
          "output_type": "execute_result",
          "data": {
            "text/plain": [
              "720"
            ]
          },
          "metadata": {
            "tags": []
          },
          "execution_count": 165
        }
      ]
    },
    {
      "cell_type": "code",
      "metadata": {
        "id": "0Tfl13tKRdp9"
      },
      "source": [
        "x_train , y_train = np.array(x_train), np.array(y_train)"
      ],
      "execution_count": 225,
      "outputs": []
    },
    {
      "cell_type": "code",
      "metadata": {
        "colab": {
          "base_uri": "https://localhost:8080/"
        },
        "id": "H22Pc8IGRtVh",
        "outputId": "329bfeeb-a5af-45be-8a5a-2b1f03dc9795"
      },
      "source": [
        "x_train.shape"
      ],
      "execution_count": 228,
      "outputs": [
        {
          "output_type": "execute_result",
          "data": {
            "text/plain": [
              "(541, 720, 1)"
            ]
          },
          "metadata": {
            "tags": []
          },
          "execution_count": 228
        }
      ]
    },
    {
      "cell_type": "code",
      "metadata": {
        "id": "Yp-uk54qRk2u"
      },
      "source": [
        "x_train = np.reshape(x_train, (x_train.shape[0] , x_train.shape[1], x_train.shape[2]))"
      ],
      "execution_count": 227,
      "outputs": []
    },
    {
      "cell_type": "code",
      "metadata": {
        "id": "XXIRJD7DVpvo"
      },
      "source": [
        "y_train = np.reshape(y_train, (y_train.shape[0] , y_train.shape[1]))"
      ],
      "execution_count": 230,
      "outputs": []
    },
    {
      "cell_type": "code",
      "metadata": {
        "colab": {
          "base_uri": "https://localhost:8080/"
        },
        "id": "pym0H_abSUEg",
        "outputId": "717aae18-096e-43ae-dc2a-1f7a1606ec82"
      },
      "source": [
        "y_train.shape"
      ],
      "execution_count": 231,
      "outputs": [
        {
          "output_type": "execute_result",
          "data": {
            "text/plain": [
              "(541, 180)"
            ]
          },
          "metadata": {
            "tags": []
          },
          "execution_count": 231
        }
      ]
    },
    {
      "cell_type": "code",
      "metadata": {
        "colab": {
          "base_uri": "https://localhost:8080/",
          "height": 578
        },
        "id": "zXhURA7SRyWT",
        "outputId": "477f82bb-cb70-4464-c635-8a059a196107"
      },
      "source": [
        "regressor = Sequential()\r\n",
        "regressor.add(Bidirectional(LSTM(units=30, return_sequences=True, input_shape = (x_train.shape[1],x_train.shape[2]) ) ))\r\n",
        "regressor.add(Dropout(0.2))\r\n",
        "regressor.add(LSTM(units= 30 , return_sequences=True))\r\n",
        "regressor.add(Dropout(0.2))\r\n",
        "regressor.add(LSTM(units= 30 , return_sequences=True))\r\n",
        "regressor.add(Dropout(0.2))\r\n",
        "regressor.add(LSTM(units= 30))\r\n",
        "regressor.add(Dropout(0.2))\r\n",
        "regressor.add(Dense(units = n_future,activation='linear'))\r\n",
        "regressor.compile(optimizer='adam', loss='mean_squared_error',metrics=['acc'])\r\n",
        "regressor.fit(x_train, y_train, epochs=500,batch_size=32 )"
      ],
      "execution_count": 233,
      "outputs": [
        {
          "output_type": "stream",
          "text": [
            "Epoch 1/500\n",
            "17/17 [==============================] - 8s 101ms/step - loss: 0.5586 - acc: 0.0000e+00\n",
            "Epoch 2/500\n",
            "17/17 [==============================] - 2s 97ms/step - loss: 0.2607 - acc: 0.0034\n",
            "Epoch 3/500\n",
            "17/17 [==============================] - 2s 97ms/step - loss: 0.0970 - acc: 0.0035\n",
            "Epoch 4/500\n",
            "17/17 [==============================] - 2s 96ms/step - loss: 0.0655 - acc: 0.0073\n",
            "Epoch 5/500\n",
            "17/17 [==============================] - 2s 97ms/step - loss: 0.0586 - acc: 0.0072\n",
            "Epoch 6/500\n",
            "17/17 [==============================] - 2s 98ms/step - loss: 0.0525 - acc: 0.0142\n",
            "Epoch 7/500\n",
            " 3/17 [====>.........................] - ETA: 1s - loss: 0.0499 - acc: 0.0000e+00"
          ],
          "name": "stdout"
        },
        {
          "output_type": "error",
          "ename": "KeyboardInterrupt",
          "evalue": "ignored",
          "traceback": [
            "\u001b[0;31m---------------------------------------------------------------------------\u001b[0m",
            "\u001b[0;31mKeyboardInterrupt\u001b[0m                         Traceback (most recent call last)",
            "\u001b[0;32m<ipython-input-233-b86c3d084d7c>\u001b[0m in \u001b[0;36m<module>\u001b[0;34m()\u001b[0m\n\u001b[1;32m     10\u001b[0m \u001b[0mregressor\u001b[0m\u001b[0;34m.\u001b[0m\u001b[0madd\u001b[0m\u001b[0;34m(\u001b[0m\u001b[0mDense\u001b[0m\u001b[0;34m(\u001b[0m\u001b[0munits\u001b[0m \u001b[0;34m=\u001b[0m \u001b[0mn_future\u001b[0m\u001b[0;34m,\u001b[0m\u001b[0mactivation\u001b[0m\u001b[0;34m=\u001b[0m\u001b[0;34m'linear'\u001b[0m\u001b[0;34m)\u001b[0m\u001b[0;34m)\u001b[0m\u001b[0;34m\u001b[0m\u001b[0;34m\u001b[0m\u001b[0m\n\u001b[1;32m     11\u001b[0m \u001b[0mregressor\u001b[0m\u001b[0;34m.\u001b[0m\u001b[0mcompile\u001b[0m\u001b[0;34m(\u001b[0m\u001b[0moptimizer\u001b[0m\u001b[0;34m=\u001b[0m\u001b[0;34m'adam'\u001b[0m\u001b[0;34m,\u001b[0m \u001b[0mloss\u001b[0m\u001b[0;34m=\u001b[0m\u001b[0;34m'mean_squared_error'\u001b[0m\u001b[0;34m,\u001b[0m\u001b[0mmetrics\u001b[0m\u001b[0;34m=\u001b[0m\u001b[0;34m[\u001b[0m\u001b[0;34m'acc'\u001b[0m\u001b[0;34m]\u001b[0m\u001b[0;34m)\u001b[0m\u001b[0;34m\u001b[0m\u001b[0;34m\u001b[0m\u001b[0m\n\u001b[0;32m---> 12\u001b[0;31m \u001b[0mregressor\u001b[0m\u001b[0;34m.\u001b[0m\u001b[0mfit\u001b[0m\u001b[0;34m(\u001b[0m\u001b[0mx_train\u001b[0m\u001b[0;34m,\u001b[0m \u001b[0my_train\u001b[0m\u001b[0;34m,\u001b[0m \u001b[0mepochs\u001b[0m\u001b[0;34m=\u001b[0m\u001b[0;36m500\u001b[0m\u001b[0;34m,\u001b[0m\u001b[0mbatch_size\u001b[0m\u001b[0;34m=\u001b[0m\u001b[0;36m32\u001b[0m \u001b[0;34m)\u001b[0m\u001b[0;34m\u001b[0m\u001b[0;34m\u001b[0m\u001b[0m\n\u001b[0m",
            "\u001b[0;32m/usr/local/lib/python3.6/dist-packages/tensorflow/python/keras/engine/training.py\u001b[0m in \u001b[0;36mfit\u001b[0;34m(self, x, y, batch_size, epochs, verbose, callbacks, validation_split, validation_data, shuffle, class_weight, sample_weight, initial_epoch, steps_per_epoch, validation_steps, validation_batch_size, validation_freq, max_queue_size, workers, use_multiprocessing)\u001b[0m\n\u001b[1;32m   1098\u001b[0m                 _r=1):\n\u001b[1;32m   1099\u001b[0m               \u001b[0mcallbacks\u001b[0m\u001b[0;34m.\u001b[0m\u001b[0mon_train_batch_begin\u001b[0m\u001b[0;34m(\u001b[0m\u001b[0mstep\u001b[0m\u001b[0;34m)\u001b[0m\u001b[0;34m\u001b[0m\u001b[0;34m\u001b[0m\u001b[0m\n\u001b[0;32m-> 1100\u001b[0;31m               \u001b[0mtmp_logs\u001b[0m \u001b[0;34m=\u001b[0m \u001b[0mself\u001b[0m\u001b[0;34m.\u001b[0m\u001b[0mtrain_function\u001b[0m\u001b[0;34m(\u001b[0m\u001b[0miterator\u001b[0m\u001b[0;34m)\u001b[0m\u001b[0;34m\u001b[0m\u001b[0;34m\u001b[0m\u001b[0m\n\u001b[0m\u001b[1;32m   1101\u001b[0m               \u001b[0;32mif\u001b[0m \u001b[0mdata_handler\u001b[0m\u001b[0;34m.\u001b[0m\u001b[0mshould_sync\u001b[0m\u001b[0;34m:\u001b[0m\u001b[0;34m\u001b[0m\u001b[0;34m\u001b[0m\u001b[0m\n\u001b[1;32m   1102\u001b[0m                 \u001b[0mcontext\u001b[0m\u001b[0;34m.\u001b[0m\u001b[0masync_wait\u001b[0m\u001b[0;34m(\u001b[0m\u001b[0;34m)\u001b[0m\u001b[0;34m\u001b[0m\u001b[0;34m\u001b[0m\u001b[0m\n",
            "\u001b[0;32m/usr/local/lib/python3.6/dist-packages/tensorflow/python/eager/def_function.py\u001b[0m in \u001b[0;36m__call__\u001b[0;34m(self, *args, **kwds)\u001b[0m\n\u001b[1;32m    826\u001b[0m     \u001b[0mtracing_count\u001b[0m \u001b[0;34m=\u001b[0m \u001b[0mself\u001b[0m\u001b[0;34m.\u001b[0m\u001b[0mexperimental_get_tracing_count\u001b[0m\u001b[0;34m(\u001b[0m\u001b[0;34m)\u001b[0m\u001b[0;34m\u001b[0m\u001b[0;34m\u001b[0m\u001b[0m\n\u001b[1;32m    827\u001b[0m     \u001b[0;32mwith\u001b[0m \u001b[0mtrace\u001b[0m\u001b[0;34m.\u001b[0m\u001b[0mTrace\u001b[0m\u001b[0;34m(\u001b[0m\u001b[0mself\u001b[0m\u001b[0;34m.\u001b[0m\u001b[0m_name\u001b[0m\u001b[0;34m)\u001b[0m \u001b[0;32mas\u001b[0m \u001b[0mtm\u001b[0m\u001b[0;34m:\u001b[0m\u001b[0;34m\u001b[0m\u001b[0;34m\u001b[0m\u001b[0m\n\u001b[0;32m--> 828\u001b[0;31m       \u001b[0mresult\u001b[0m \u001b[0;34m=\u001b[0m \u001b[0mself\u001b[0m\u001b[0;34m.\u001b[0m\u001b[0m_call\u001b[0m\u001b[0;34m(\u001b[0m\u001b[0;34m*\u001b[0m\u001b[0margs\u001b[0m\u001b[0;34m,\u001b[0m \u001b[0;34m**\u001b[0m\u001b[0mkwds\u001b[0m\u001b[0;34m)\u001b[0m\u001b[0;34m\u001b[0m\u001b[0;34m\u001b[0m\u001b[0m\n\u001b[0m\u001b[1;32m    829\u001b[0m       \u001b[0mcompiler\u001b[0m \u001b[0;34m=\u001b[0m \u001b[0;34m\"xla\"\u001b[0m \u001b[0;32mif\u001b[0m \u001b[0mself\u001b[0m\u001b[0;34m.\u001b[0m\u001b[0m_experimental_compile\u001b[0m \u001b[0;32melse\u001b[0m \u001b[0;34m\"nonXla\"\u001b[0m\u001b[0;34m\u001b[0m\u001b[0;34m\u001b[0m\u001b[0m\n\u001b[1;32m    830\u001b[0m       \u001b[0mnew_tracing_count\u001b[0m \u001b[0;34m=\u001b[0m \u001b[0mself\u001b[0m\u001b[0;34m.\u001b[0m\u001b[0mexperimental_get_tracing_count\u001b[0m\u001b[0;34m(\u001b[0m\u001b[0;34m)\u001b[0m\u001b[0;34m\u001b[0m\u001b[0;34m\u001b[0m\u001b[0m\n",
            "\u001b[0;32m/usr/local/lib/python3.6/dist-packages/tensorflow/python/eager/def_function.py\u001b[0m in \u001b[0;36m_call\u001b[0;34m(self, *args, **kwds)\u001b[0m\n\u001b[1;32m    853\u001b[0m       \u001b[0;31m# In this case we have created variables on the first call, so we run the\u001b[0m\u001b[0;34m\u001b[0m\u001b[0;34m\u001b[0m\u001b[0;34m\u001b[0m\u001b[0m\n\u001b[1;32m    854\u001b[0m       \u001b[0;31m# defunned version which is guaranteed to never create variables.\u001b[0m\u001b[0;34m\u001b[0m\u001b[0;34m\u001b[0m\u001b[0;34m\u001b[0m\u001b[0m\n\u001b[0;32m--> 855\u001b[0;31m       \u001b[0;32mreturn\u001b[0m \u001b[0mself\u001b[0m\u001b[0;34m.\u001b[0m\u001b[0m_stateless_fn\u001b[0m\u001b[0;34m(\u001b[0m\u001b[0;34m*\u001b[0m\u001b[0margs\u001b[0m\u001b[0;34m,\u001b[0m \u001b[0;34m**\u001b[0m\u001b[0mkwds\u001b[0m\u001b[0;34m)\u001b[0m  \u001b[0;31m# pylint: disable=not-callable\u001b[0m\u001b[0;34m\u001b[0m\u001b[0;34m\u001b[0m\u001b[0m\n\u001b[0m\u001b[1;32m    856\u001b[0m     \u001b[0;32melif\u001b[0m \u001b[0mself\u001b[0m\u001b[0;34m.\u001b[0m\u001b[0m_stateful_fn\u001b[0m \u001b[0;32mis\u001b[0m \u001b[0;32mnot\u001b[0m \u001b[0;32mNone\u001b[0m\u001b[0;34m:\u001b[0m\u001b[0;34m\u001b[0m\u001b[0;34m\u001b[0m\u001b[0m\n\u001b[1;32m    857\u001b[0m       \u001b[0;31m# Release the lock early so that multiple threads can perform the call\u001b[0m\u001b[0;34m\u001b[0m\u001b[0;34m\u001b[0m\u001b[0;34m\u001b[0m\u001b[0m\n",
            "\u001b[0;32m/usr/local/lib/python3.6/dist-packages/tensorflow/python/eager/function.py\u001b[0m in \u001b[0;36m__call__\u001b[0;34m(self, *args, **kwargs)\u001b[0m\n\u001b[1;32m   2941\u001b[0m        filtered_flat_args) = self._maybe_define_function(args, kwargs)\n\u001b[1;32m   2942\u001b[0m     return graph_function._call_flat(\n\u001b[0;32m-> 2943\u001b[0;31m         filtered_flat_args, captured_inputs=graph_function.captured_inputs)  # pylint: disable=protected-access\n\u001b[0m\u001b[1;32m   2944\u001b[0m \u001b[0;34m\u001b[0m\u001b[0m\n\u001b[1;32m   2945\u001b[0m   \u001b[0;34m@\u001b[0m\u001b[0mproperty\u001b[0m\u001b[0;34m\u001b[0m\u001b[0;34m\u001b[0m\u001b[0m\n",
            "\u001b[0;32m/usr/local/lib/python3.6/dist-packages/tensorflow/python/eager/function.py\u001b[0m in \u001b[0;36m_call_flat\u001b[0;34m(self, args, captured_inputs, cancellation_manager)\u001b[0m\n\u001b[1;32m   1917\u001b[0m       \u001b[0;31m# No tape is watching; skip to running the function.\u001b[0m\u001b[0;34m\u001b[0m\u001b[0;34m\u001b[0m\u001b[0;34m\u001b[0m\u001b[0m\n\u001b[1;32m   1918\u001b[0m       return self._build_call_outputs(self._inference_function.call(\n\u001b[0;32m-> 1919\u001b[0;31m           ctx, args, cancellation_manager=cancellation_manager))\n\u001b[0m\u001b[1;32m   1920\u001b[0m     forward_backward = self._select_forward_and_backward_functions(\n\u001b[1;32m   1921\u001b[0m         \u001b[0margs\u001b[0m\u001b[0;34m,\u001b[0m\u001b[0;34m\u001b[0m\u001b[0;34m\u001b[0m\u001b[0m\n",
            "\u001b[0;32m/usr/local/lib/python3.6/dist-packages/tensorflow/python/eager/function.py\u001b[0m in \u001b[0;36mcall\u001b[0;34m(self, ctx, args, cancellation_manager)\u001b[0m\n\u001b[1;32m    558\u001b[0m               \u001b[0minputs\u001b[0m\u001b[0;34m=\u001b[0m\u001b[0margs\u001b[0m\u001b[0;34m,\u001b[0m\u001b[0;34m\u001b[0m\u001b[0;34m\u001b[0m\u001b[0m\n\u001b[1;32m    559\u001b[0m               \u001b[0mattrs\u001b[0m\u001b[0;34m=\u001b[0m\u001b[0mattrs\u001b[0m\u001b[0;34m,\u001b[0m\u001b[0;34m\u001b[0m\u001b[0;34m\u001b[0m\u001b[0m\n\u001b[0;32m--> 560\u001b[0;31m               ctx=ctx)\n\u001b[0m\u001b[1;32m    561\u001b[0m         \u001b[0;32melse\u001b[0m\u001b[0;34m:\u001b[0m\u001b[0;34m\u001b[0m\u001b[0;34m\u001b[0m\u001b[0m\n\u001b[1;32m    562\u001b[0m           outputs = execute.execute_with_cancellation(\n",
            "\u001b[0;32m/usr/local/lib/python3.6/dist-packages/tensorflow/python/eager/execute.py\u001b[0m in \u001b[0;36mquick_execute\u001b[0;34m(op_name, num_outputs, inputs, attrs, ctx, name)\u001b[0m\n\u001b[1;32m     58\u001b[0m     \u001b[0mctx\u001b[0m\u001b[0;34m.\u001b[0m\u001b[0mensure_initialized\u001b[0m\u001b[0;34m(\u001b[0m\u001b[0;34m)\u001b[0m\u001b[0;34m\u001b[0m\u001b[0;34m\u001b[0m\u001b[0m\n\u001b[1;32m     59\u001b[0m     tensors = pywrap_tfe.TFE_Py_Execute(ctx._handle, device_name, op_name,\n\u001b[0;32m---> 60\u001b[0;31m                                         inputs, attrs, num_outputs)\n\u001b[0m\u001b[1;32m     61\u001b[0m   \u001b[0;32mexcept\u001b[0m \u001b[0mcore\u001b[0m\u001b[0;34m.\u001b[0m\u001b[0m_NotOkStatusException\u001b[0m \u001b[0;32mas\u001b[0m \u001b[0me\u001b[0m\u001b[0;34m:\u001b[0m\u001b[0;34m\u001b[0m\u001b[0;34m\u001b[0m\u001b[0m\n\u001b[1;32m     62\u001b[0m     \u001b[0;32mif\u001b[0m \u001b[0mname\u001b[0m \u001b[0;32mis\u001b[0m \u001b[0;32mnot\u001b[0m \u001b[0;32mNone\u001b[0m\u001b[0;34m:\u001b[0m\u001b[0;34m\u001b[0m\u001b[0;34m\u001b[0m\u001b[0m\n",
            "\u001b[0;31mKeyboardInterrupt\u001b[0m: "
          ]
        }
      ]
    },
    {
      "cell_type": "markdown",
      "metadata": {
        "id": "1O9BobnBCR4Q"
      },
      "source": [
        ""
      ]
    },
    {
      "cell_type": "code",
      "metadata": {
        "colab": {
          "base_uri": "https://localhost:8080/"
        },
        "id": "ATJE5JYREbGS",
        "outputId": "4d709176-df6c-4edb-b35d-b833383d39c5"
      },
      "source": [
        "dataset = pd.read_csv('city_temperature.csv')"
      ],
      "execution_count": 358,
      "outputs": [
        {
          "output_type": "stream",
          "text": [
            "/usr/local/lib/python3.6/dist-packages/IPython/core/interactiveshell.py:2718: DtypeWarning: Columns (2) have mixed types.Specify dtype option on import or set low_memory=False.\n",
            "  interactivity=interactivity, compiler=compiler, result=result)\n"
          ],
          "name": "stderr"
        }
      ]
    },
    {
      "cell_type": "code",
      "metadata": {
        "id": "CpG4WFP-Eeqp"
      },
      "source": [
        "dataset = dataset.loc[(dataset.City == 'Moscow') & (dataset.Year != 2020)]"
      ],
      "execution_count": 359,
      "outputs": []
    },
    {
      "cell_type": "code",
      "metadata": {
        "id": "Lt0E85WUFqSD"
      },
      "source": [
        "training_set = dataset.iloc[:,7:8]"
      ],
      "execution_count": 360,
      "outputs": []
    },
    {
      "cell_type": "code",
      "metadata": {
        "colab": {
          "base_uri": "https://localhost:8080/",
          "height": 419
        },
        "id": "_o0wODzhHzpl",
        "outputId": "fc5a42c5-d76b-4a99-e5db-9b3a3180ae25"
      },
      "source": [
        "training_set"
      ],
      "execution_count": 361,
      "outputs": [
        {
          "output_type": "execute_result",
          "data": {
            "text/html": [
              "<div>\n",
              "<style scoped>\n",
              "    .dataframe tbody tr th:only-of-type {\n",
              "        vertical-align: middle;\n",
              "    }\n",
              "\n",
              "    .dataframe tbody tr th {\n",
              "        vertical-align: top;\n",
              "    }\n",
              "\n",
              "    .dataframe thead th {\n",
              "        text-align: right;\n",
              "    }\n",
              "</style>\n",
              "<table border=\"1\" class=\"dataframe\">\n",
              "  <thead>\n",
              "    <tr style=\"text-align: right;\">\n",
              "      <th></th>\n",
              "      <th>AvgTemperature</th>\n",
              "    </tr>\n",
              "  </thead>\n",
              "  <tbody>\n",
              "    <tr>\n",
              "      <th>878256</th>\n",
              "      <td>32.3</td>\n",
              "    </tr>\n",
              "    <tr>\n",
              "      <th>878257</th>\n",
              "      <td>31.7</td>\n",
              "    </tr>\n",
              "    <tr>\n",
              "      <th>878258</th>\n",
              "      <td>26.8</td>\n",
              "    </tr>\n",
              "    <tr>\n",
              "      <th>878259</th>\n",
              "      <td>15.9</td>\n",
              "    </tr>\n",
              "    <tr>\n",
              "      <th>878260</th>\n",
              "      <td>23.8</td>\n",
              "    </tr>\n",
              "    <tr>\n",
              "      <th>...</th>\n",
              "      <td>...</td>\n",
              "    </tr>\n",
              "    <tr>\n",
              "      <th>887383</th>\n",
              "      <td>30.4</td>\n",
              "    </tr>\n",
              "    <tr>\n",
              "      <th>887384</th>\n",
              "      <td>29.3</td>\n",
              "    </tr>\n",
              "    <tr>\n",
              "      <th>887385</th>\n",
              "      <td>25.3</td>\n",
              "    </tr>\n",
              "    <tr>\n",
              "      <th>887386</th>\n",
              "      <td>26.7</td>\n",
              "    </tr>\n",
              "    <tr>\n",
              "      <th>887387</th>\n",
              "      <td>33.8</td>\n",
              "    </tr>\n",
              "  </tbody>\n",
              "</table>\n",
              "<p>9132 rows × 1 columns</p>\n",
              "</div>"
            ],
            "text/plain": [
              "        AvgTemperature\n",
              "878256            32.3\n",
              "878257            31.7\n",
              "878258            26.8\n",
              "878259            15.9\n",
              "878260            23.8\n",
              "...                ...\n",
              "887383            30.4\n",
              "887384            29.3\n",
              "887385            25.3\n",
              "887386            26.7\n",
              "887387            33.8\n",
              "\n",
              "[9132 rows x 1 columns]"
            ]
          },
          "metadata": {
            "tags": []
          },
          "execution_count": 361
        }
      ]
    },
    {
      "cell_type": "code",
      "metadata": {
        "id": "bD64XkkyGTRp"
      },
      "source": [
        "import matplotlib.pyplot as plt"
      ],
      "execution_count": 42,
      "outputs": []
    },
    {
      "cell_type": "code",
      "metadata": {
        "colab": {
          "base_uri": "https://localhost:8080/",
          "height": 419
        },
        "id": "cEIFA9NcG_13",
        "outputId": "f1adb660-7b54-4f9e-eaa0-33742ca6aeef"
      },
      "source": [
        "dataset[dataset.Year == 2019]"
      ],
      "execution_count": 67,
      "outputs": [
        {
          "output_type": "execute_result",
          "data": {
            "text/html": [
              "<div>\n",
              "<style scoped>\n",
              "    .dataframe tbody tr th:only-of-type {\n",
              "        vertical-align: middle;\n",
              "    }\n",
              "\n",
              "    .dataframe tbody tr th {\n",
              "        vertical-align: top;\n",
              "    }\n",
              "\n",
              "    .dataframe thead th {\n",
              "        text-align: right;\n",
              "    }\n",
              "</style>\n",
              "<table border=\"1\" class=\"dataframe\">\n",
              "  <thead>\n",
              "    <tr style=\"text-align: right;\">\n",
              "      <th></th>\n",
              "      <th>Region</th>\n",
              "      <th>Country</th>\n",
              "      <th>State</th>\n",
              "      <th>City</th>\n",
              "      <th>Month</th>\n",
              "      <th>Day</th>\n",
              "      <th>Year</th>\n",
              "      <th>AvgTemperature</th>\n",
              "    </tr>\n",
              "  </thead>\n",
              "  <tbody>\n",
              "    <tr>\n",
              "      <th>887023</th>\n",
              "      <td>Europe</td>\n",
              "      <td>Russia</td>\n",
              "      <td>NaN</td>\n",
              "      <td>Moscow</td>\n",
              "      <td>1</td>\n",
              "      <td>1</td>\n",
              "      <td>2019</td>\n",
              "      <td>24.3</td>\n",
              "    </tr>\n",
              "    <tr>\n",
              "      <th>887024</th>\n",
              "      <td>Europe</td>\n",
              "      <td>Russia</td>\n",
              "      <td>NaN</td>\n",
              "      <td>Moscow</td>\n",
              "      <td>1</td>\n",
              "      <td>2</td>\n",
              "      <td>2019</td>\n",
              "      <td>26.6</td>\n",
              "    </tr>\n",
              "    <tr>\n",
              "      <th>887025</th>\n",
              "      <td>Europe</td>\n",
              "      <td>Russia</td>\n",
              "      <td>NaN</td>\n",
              "      <td>Moscow</td>\n",
              "      <td>1</td>\n",
              "      <td>3</td>\n",
              "      <td>2019</td>\n",
              "      <td>26.4</td>\n",
              "    </tr>\n",
              "    <tr>\n",
              "      <th>887026</th>\n",
              "      <td>Europe</td>\n",
              "      <td>Russia</td>\n",
              "      <td>NaN</td>\n",
              "      <td>Moscow</td>\n",
              "      <td>1</td>\n",
              "      <td>4</td>\n",
              "      <td>2019</td>\n",
              "      <td>23.1</td>\n",
              "    </tr>\n",
              "    <tr>\n",
              "      <th>887027</th>\n",
              "      <td>Europe</td>\n",
              "      <td>Russia</td>\n",
              "      <td>NaN</td>\n",
              "      <td>Moscow</td>\n",
              "      <td>1</td>\n",
              "      <td>5</td>\n",
              "      <td>2019</td>\n",
              "      <td>21.3</td>\n",
              "    </tr>\n",
              "    <tr>\n",
              "      <th>...</th>\n",
              "      <td>...</td>\n",
              "      <td>...</td>\n",
              "      <td>...</td>\n",
              "      <td>...</td>\n",
              "      <td>...</td>\n",
              "      <td>...</td>\n",
              "      <td>...</td>\n",
              "      <td>...</td>\n",
              "    </tr>\n",
              "    <tr>\n",
              "      <th>887383</th>\n",
              "      <td>Europe</td>\n",
              "      <td>Russia</td>\n",
              "      <td>NaN</td>\n",
              "      <td>Moscow</td>\n",
              "      <td>12</td>\n",
              "      <td>27</td>\n",
              "      <td>2019</td>\n",
              "      <td>30.4</td>\n",
              "    </tr>\n",
              "    <tr>\n",
              "      <th>887384</th>\n",
              "      <td>Europe</td>\n",
              "      <td>Russia</td>\n",
              "      <td>NaN</td>\n",
              "      <td>Moscow</td>\n",
              "      <td>12</td>\n",
              "      <td>28</td>\n",
              "      <td>2019</td>\n",
              "      <td>29.3</td>\n",
              "    </tr>\n",
              "    <tr>\n",
              "      <th>887385</th>\n",
              "      <td>Europe</td>\n",
              "      <td>Russia</td>\n",
              "      <td>NaN</td>\n",
              "      <td>Moscow</td>\n",
              "      <td>12</td>\n",
              "      <td>29</td>\n",
              "      <td>2019</td>\n",
              "      <td>25.3</td>\n",
              "    </tr>\n",
              "    <tr>\n",
              "      <th>887386</th>\n",
              "      <td>Europe</td>\n",
              "      <td>Russia</td>\n",
              "      <td>NaN</td>\n",
              "      <td>Moscow</td>\n",
              "      <td>12</td>\n",
              "      <td>30</td>\n",
              "      <td>2019</td>\n",
              "      <td>26.7</td>\n",
              "    </tr>\n",
              "    <tr>\n",
              "      <th>887387</th>\n",
              "      <td>Europe</td>\n",
              "      <td>Russia</td>\n",
              "      <td>NaN</td>\n",
              "      <td>Moscow</td>\n",
              "      <td>12</td>\n",
              "      <td>31</td>\n",
              "      <td>2019</td>\n",
              "      <td>33.8</td>\n",
              "    </tr>\n",
              "  </tbody>\n",
              "</table>\n",
              "<p>365 rows × 8 columns</p>\n",
              "</div>"
            ],
            "text/plain": [
              "        Region Country State    City  Month  Day  Year  AvgTemperature\n",
              "887023  Europe  Russia   NaN  Moscow      1    1  2019            24.3\n",
              "887024  Europe  Russia   NaN  Moscow      1    2  2019            26.6\n",
              "887025  Europe  Russia   NaN  Moscow      1    3  2019            26.4\n",
              "887026  Europe  Russia   NaN  Moscow      1    4  2019            23.1\n",
              "887027  Europe  Russia   NaN  Moscow      1    5  2019            21.3\n",
              "...        ...     ...   ...     ...    ...  ...   ...             ...\n",
              "887383  Europe  Russia   NaN  Moscow     12   27  2019            30.4\n",
              "887384  Europe  Russia   NaN  Moscow     12   28  2019            29.3\n",
              "887385  Europe  Russia   NaN  Moscow     12   29  2019            25.3\n",
              "887386  Europe  Russia   NaN  Moscow     12   30  2019            26.7\n",
              "887387  Europe  Russia   NaN  Moscow     12   31  2019            33.8\n",
              "\n",
              "[365 rows x 8 columns]"
            ]
          },
          "metadata": {
            "tags": []
          },
          "execution_count": 67
        }
      ]
    },
    {
      "cell_type": "code",
      "metadata": {
        "id": "p-tzQAg3IG_4"
      },
      "source": [
        "from sklearn.preprocessing import MinMaxScaler"
      ],
      "execution_count": 71,
      "outputs": []
    },
    {
      "cell_type": "code",
      "metadata": {
        "id": "N-Ox274eINGO"
      },
      "source": [
        "sc = MinMaxScaler(feature_range=(0,1))"
      ],
      "execution_count": 315,
      "outputs": []
    },
    {
      "cell_type": "code",
      "metadata": {
        "id": "NbZKMedMIQO8"
      },
      "source": [
        "training_set_scaled = sc.fit_transform(training_set)"
      ],
      "execution_count": 316,
      "outputs": []
    },
    {
      "cell_type": "code",
      "metadata": {
        "id": "M2rl3QGgIdma"
      },
      "source": [
        "training_set_scaled = np.round(training_set_scaled,2)"
      ],
      "execution_count": 317,
      "outputs": []
    },
    {
      "cell_type": "code",
      "metadata": {
        "id": "JNu3cmnxId3X"
      },
      "source": [
        "x_train = []\r\n",
        "y_train = []\r\n",
        "n_future = 1 # next 4 days temperature forecast\r\n",
        "n_past = 3 # Past 30 days "
      ],
      "execution_count": 318,
      "outputs": []
    },
    {
      "cell_type": "code",
      "metadata": {
        "id": "xoN-j_I4Io3e"
      },
      "source": [
        "for i in range(0,len(training_set_scaled)-n_past-n_future+1):\r\n",
        "    x_train.append(training_set_scaled[i : i + n_past , 0])     \r\n",
        "    y_train.append(training_set_scaled[i + n_past : i + n_past + n_future , 0 ])"
      ],
      "execution_count": 319,
      "outputs": []
    },
    {
      "cell_type": "code",
      "metadata": {
        "id": "iHXV1xSYIyw_"
      },
      "source": [
        "x_train , y_train = np.array(x_train), np.array(y_train)\r\n",
        "x_train = np.reshape(x_train, (x_train.shape[0] , x_train.shape[1], 1))"
      ],
      "execution_count": 320,
      "outputs": []
    },
    {
      "cell_type": "code",
      "metadata": {
        "colab": {
          "base_uri": "https://localhost:8080/"
        },
        "id": "6jHAc_RGqPFe",
        "outputId": "816e858f-b508-44b8-c949-296f54ec9a74"
      },
      "source": [
        "x_train.shape"
      ],
      "execution_count": 362,
      "outputs": [
        {
          "output_type": "execute_result",
          "data": {
            "text/plain": [
              "(9129, 3, 1)"
            ]
          },
          "metadata": {
            "tags": []
          },
          "execution_count": 362
        }
      ]
    },
    {
      "cell_type": "code",
      "metadata": {
        "colab": {
          "base_uri": "https://localhost:8080/"
        },
        "id": "8YLaPGUaagNH",
        "outputId": "2b433ef2-c2c1-4d6d-a939-1c6675a76231"
      },
      "source": [
        "training_set_scaled[0:10]"
      ],
      "execution_count": 176,
      "outputs": [
        {
          "output_type": "execute_result",
          "data": {
            "text/plain": [
              "array([[0.7 ],\n",
              "       [0.7 ],\n",
              "       [0.68],\n",
              "       [0.62],\n",
              "       [0.66],\n",
              "       [0.61],\n",
              "       [0.61],\n",
              "       [0.63],\n",
              "       [0.62],\n",
              "       [0.58]])"
            ]
          },
          "metadata": {
            "tags": []
          },
          "execution_count": 176
        }
      ]
    },
    {
      "cell_type": "code",
      "metadata": {
        "colab": {
          "base_uri": "https://localhost:8080/"
        },
        "id": "iVgtF1c-I0fn",
        "outputId": "71a50ef8-c0ab-4691-af7e-96ca52f9a80b"
      },
      "source": [
        "x_train[1]"
      ],
      "execution_count": 178,
      "outputs": [
        {
          "output_type": "execute_result",
          "data": {
            "text/plain": [
              "array([[0.7 ],\n",
              "       [0.68],\n",
              "       [0.62],\n",
              "       [0.66],\n",
              "       [0.61],\n",
              "       [0.61],\n",
              "       [0.63]])"
            ]
          },
          "metadata": {
            "tags": []
          },
          "execution_count": 178
        }
      ]
    },
    {
      "cell_type": "code",
      "metadata": {
        "colab": {
          "base_uri": "https://localhost:8080/"
        },
        "id": "jqs-H96gaeP4",
        "outputId": "1557a38c-d542-47fd-d3a3-9362bf7dbf87"
      },
      "source": [
        "y_train"
      ],
      "execution_count": 177,
      "outputs": [
        {
          "output_type": "execute_result",
          "data": {
            "text/plain": [
              "array([[0.63],\n",
              "       [0.62],\n",
              "       [0.58],\n",
              "       ...,\n",
              "       [0.67],\n",
              "       [0.67],\n",
              "       [0.71]])"
            ]
          },
          "metadata": {
            "tags": []
          },
          "execution_count": 177
        }
      ]
    },
    {
      "cell_type": "code",
      "metadata": {
        "colab": {
          "base_uri": "https://localhost:8080/"
        },
        "id": "J-ejl7YbI-S1",
        "outputId": "d84799ca-382b-4d6a-e1d2-a9ac523f43b3"
      },
      "source": [
        "from keras.models import Sequential\r\n",
        "from keras.layers import LSTM,Dense ,Dropout, Bidirectional, Activation\r\n",
        "regressor = Sequential()\r\n",
        "regressor.add(Bidirectional(LSTM(units=3, return_sequences=True, input_shape = (x_train.shape[1],1) ) ))\r\n",
        "#regressor.add(Dropout(0.2))\r\n",
        "regressor.add(LSTM(units= 3 , return_sequences=True))\r\n",
        "#regressor.add(Dropout(0.2))\r\n",
        "regressor.add(LSTM(units= 3 , return_sequences=True))\r\n",
        "#regressor.add(Dropout(0.2))\r\n",
        "regressor.add(LSTM(units= 3 , return_sequences=True))\r\n",
        "#regressor.add(Dropout(0.2))\r\n",
        "\r\n",
        "\r\n",
        "regressor.add(LSTM(units= 3))\r\n",
        "regressor.add(Dense(units = n_future,activation='linear'))\r\n",
        "#regressor.add(Activation(\"relu\"))\r\n",
        "regressor.compile(optimizer='adam', loss='mean_squared_error')\r\n",
        "regressor.fit(x_train, y_train, epochs=100,batch_size=32 )"
      ],
      "execution_count": 321,
      "outputs": [
        {
          "output_type": "stream",
          "text": [
            "Epoch 1/100\n",
            "286/286 [==============================] - 11s 10ms/step - loss: 0.3271\n",
            "Epoch 2/100\n",
            "286/286 [==============================] - 3s 10ms/step - loss: 0.0114\n",
            "Epoch 3/100\n",
            "286/286 [==============================] - 3s 10ms/step - loss: 0.0098\n",
            "Epoch 4/100\n",
            "286/286 [==============================] - 3s 10ms/step - loss: 0.0053\n",
            "Epoch 5/100\n",
            "286/286 [==============================] - 3s 10ms/step - loss: 0.0030\n",
            "Epoch 6/100\n",
            "286/286 [==============================] - 3s 10ms/step - loss: 0.0030\n",
            "Epoch 7/100\n",
            "286/286 [==============================] - 3s 10ms/step - loss: 0.0033\n",
            "Epoch 8/100\n",
            "286/286 [==============================] - 3s 10ms/step - loss: 0.0033\n",
            "Epoch 9/100\n",
            "286/286 [==============================] - 3s 10ms/step - loss: 0.0027\n",
            "Epoch 10/100\n",
            "286/286 [==============================] - 3s 10ms/step - loss: 0.0032\n",
            "Epoch 11/100\n",
            "286/286 [==============================] - 3s 10ms/step - loss: 0.0030\n",
            "Epoch 12/100\n",
            "286/286 [==============================] - 3s 10ms/step - loss: 0.0039\n",
            "Epoch 13/100\n",
            "286/286 [==============================] - 3s 10ms/step - loss: 0.0033\n",
            "Epoch 14/100\n",
            "286/286 [==============================] - 3s 10ms/step - loss: 0.0030\n",
            "Epoch 15/100\n",
            "286/286 [==============================] - 3s 10ms/step - loss: 0.0024\n",
            "Epoch 16/100\n",
            "286/286 [==============================] - 3s 10ms/step - loss: 0.0029\n",
            "Epoch 17/100\n",
            "286/286 [==============================] - 3s 10ms/step - loss: 0.0028\n",
            "Epoch 18/100\n",
            "286/286 [==============================] - 3s 10ms/step - loss: 0.0026\n",
            "Epoch 19/100\n",
            "286/286 [==============================] - 3s 10ms/step - loss: 0.0032\n",
            "Epoch 20/100\n",
            "286/286 [==============================] - 3s 10ms/step - loss: 0.0027\n",
            "Epoch 21/100\n",
            "286/286 [==============================] - 3s 10ms/step - loss: 0.0026\n",
            "Epoch 22/100\n",
            "286/286 [==============================] - 3s 10ms/step - loss: 0.0031\n",
            "Epoch 23/100\n",
            "286/286 [==============================] - 3s 10ms/step - loss: 0.0026\n",
            "Epoch 24/100\n",
            "286/286 [==============================] - 3s 10ms/step - loss: 0.0025\n",
            "Epoch 25/100\n",
            "286/286 [==============================] - 3s 10ms/step - loss: 0.0031\n",
            "Epoch 26/100\n",
            "286/286 [==============================] - 3s 10ms/step - loss: 0.0030\n",
            "Epoch 27/100\n",
            "286/286 [==============================] - 3s 10ms/step - loss: 0.0024\n",
            "Epoch 28/100\n",
            "286/286 [==============================] - 3s 10ms/step - loss: 0.0026\n",
            "Epoch 29/100\n",
            "286/286 [==============================] - 3s 10ms/step - loss: 0.0027\n",
            "Epoch 30/100\n",
            "286/286 [==============================] - 3s 10ms/step - loss: 0.0031\n",
            "Epoch 31/100\n",
            "286/286 [==============================] - 3s 10ms/step - loss: 0.0030\n",
            "Epoch 32/100\n",
            "286/286 [==============================] - 3s 10ms/step - loss: 0.0025\n",
            "Epoch 33/100\n",
            "286/286 [==============================] - 3s 10ms/step - loss: 0.0032\n",
            "Epoch 34/100\n",
            "286/286 [==============================] - 3s 10ms/step - loss: 0.0021\n",
            "Epoch 35/100\n",
            "286/286 [==============================] - 3s 10ms/step - loss: 0.0026\n",
            "Epoch 36/100\n",
            "286/286 [==============================] - 3s 10ms/step - loss: 0.0019\n",
            "Epoch 37/100\n",
            "286/286 [==============================] - 3s 10ms/step - loss: 0.0030\n",
            "Epoch 38/100\n",
            "286/286 [==============================] - 3s 10ms/step - loss: 0.0026\n",
            "Epoch 39/100\n",
            "286/286 [==============================] - 3s 10ms/step - loss: 0.0028\n",
            "Epoch 40/100\n",
            "286/286 [==============================] - 3s 10ms/step - loss: 0.0025\n",
            "Epoch 41/100\n",
            "286/286 [==============================] - 3s 10ms/step - loss: 0.0018\n",
            "Epoch 42/100\n",
            "286/286 [==============================] - 3s 10ms/step - loss: 0.0025\n",
            "Epoch 43/100\n",
            "286/286 [==============================] - 3s 10ms/step - loss: 0.0021\n",
            "Epoch 44/100\n",
            "286/286 [==============================] - 3s 10ms/step - loss: 0.0033\n",
            "Epoch 45/100\n",
            "286/286 [==============================] - 3s 10ms/step - loss: 0.0027\n",
            "Epoch 46/100\n",
            "286/286 [==============================] - 3s 10ms/step - loss: 0.0023\n",
            "Epoch 47/100\n",
            "286/286 [==============================] - 3s 10ms/step - loss: 0.0025\n",
            "Epoch 48/100\n",
            "286/286 [==============================] - 3s 10ms/step - loss: 0.0020\n",
            "Epoch 49/100\n",
            "286/286 [==============================] - 3s 10ms/step - loss: 0.0027\n",
            "Epoch 50/100\n",
            "286/286 [==============================] - 3s 10ms/step - loss: 0.0027\n",
            "Epoch 51/100\n",
            "286/286 [==============================] - 3s 9ms/step - loss: 0.0025\n",
            "Epoch 52/100\n",
            "286/286 [==============================] - 3s 10ms/step - loss: 0.0026\n",
            "Epoch 53/100\n",
            "286/286 [==============================] - 3s 10ms/step - loss: 0.0027\n",
            "Epoch 54/100\n",
            "286/286 [==============================] - 3s 10ms/step - loss: 0.0026\n",
            "Epoch 55/100\n",
            "286/286 [==============================] - 3s 10ms/step - loss: 0.0024\n",
            "Epoch 56/100\n",
            "286/286 [==============================] - 3s 10ms/step - loss: 0.0029\n",
            "Epoch 57/100\n",
            "286/286 [==============================] - 3s 10ms/step - loss: 0.0027\n",
            "Epoch 58/100\n",
            "286/286 [==============================] - 3s 10ms/step - loss: 0.0028\n",
            "Epoch 59/100\n",
            "286/286 [==============================] - 3s 10ms/step - loss: 0.0022\n",
            "Epoch 60/100\n",
            "286/286 [==============================] - 3s 10ms/step - loss: 0.0026\n",
            "Epoch 61/100\n",
            "286/286 [==============================] - 3s 10ms/step - loss: 0.0030\n",
            "Epoch 62/100\n",
            "286/286 [==============================] - 3s 10ms/step - loss: 0.0029\n",
            "Epoch 63/100\n",
            "286/286 [==============================] - 3s 10ms/step - loss: 0.0030\n",
            "Epoch 64/100\n",
            "286/286 [==============================] - 3s 10ms/step - loss: 0.0027\n",
            "Epoch 65/100\n",
            "286/286 [==============================] - 3s 10ms/step - loss: 0.0026\n",
            "Epoch 66/100\n",
            "286/286 [==============================] - 3s 10ms/step - loss: 0.0028\n",
            "Epoch 67/100\n",
            "286/286 [==============================] - 3s 10ms/step - loss: 0.0024\n",
            "Epoch 68/100\n",
            "286/286 [==============================] - 3s 10ms/step - loss: 0.0024\n",
            "Epoch 69/100\n",
            "286/286 [==============================] - 3s 10ms/step - loss: 0.0026\n",
            "Epoch 70/100\n",
            "286/286 [==============================] - 3s 10ms/step - loss: 0.0039\n",
            "Epoch 71/100\n",
            "286/286 [==============================] - 3s 10ms/step - loss: 0.0023\n",
            "Epoch 72/100\n",
            "286/286 [==============================] - 3s 10ms/step - loss: 0.0023\n",
            "Epoch 73/100\n",
            "286/286 [==============================] - 3s 10ms/step - loss: 0.0028\n",
            "Epoch 74/100\n",
            "286/286 [==============================] - 3s 10ms/step - loss: 0.0022\n",
            "Epoch 75/100\n",
            "286/286 [==============================] - 3s 9ms/step - loss: 0.0029\n",
            "Epoch 76/100\n",
            "286/286 [==============================] - 3s 10ms/step - loss: 0.0027\n",
            "Epoch 77/100\n",
            "286/286 [==============================] - 3s 10ms/step - loss: 0.0027\n",
            "Epoch 78/100\n",
            "286/286 [==============================] - 3s 10ms/step - loss: 0.0025\n",
            "Epoch 79/100\n",
            "286/286 [==============================] - 3s 10ms/step - loss: 0.0029\n",
            "Epoch 80/100\n",
            "286/286 [==============================] - 3s 10ms/step - loss: 0.0026\n",
            "Epoch 81/100\n",
            "286/286 [==============================] - 3s 10ms/step - loss: 0.0028\n",
            "Epoch 82/100\n",
            "286/286 [==============================] - 3s 10ms/step - loss: 0.0031\n",
            "Epoch 83/100\n",
            "286/286 [==============================] - 3s 10ms/step - loss: 0.0028\n",
            "Epoch 84/100\n",
            "286/286 [==============================] - 3s 10ms/step - loss: 0.0026\n",
            "Epoch 85/100\n",
            "286/286 [==============================] - 3s 10ms/step - loss: 0.0027\n",
            "Epoch 86/100\n",
            "286/286 [==============================] - 3s 10ms/step - loss: 0.0023\n",
            "Epoch 87/100\n",
            "286/286 [==============================] - 3s 10ms/step - loss: 0.0025\n",
            "Epoch 88/100\n",
            "286/286 [==============================] - 3s 9ms/step - loss: 0.0027\n",
            "Epoch 89/100\n",
            "286/286 [==============================] - 3s 10ms/step - loss: 0.0033\n",
            "Epoch 90/100\n",
            "286/286 [==============================] - 3s 10ms/step - loss: 0.0024\n",
            "Epoch 91/100\n",
            "286/286 [==============================] - 3s 10ms/step - loss: 0.0027\n",
            "Epoch 92/100\n",
            "286/286 [==============================] - 3s 10ms/step - loss: 0.0020\n",
            "Epoch 93/100\n",
            "286/286 [==============================] - 3s 10ms/step - loss: 0.0030\n",
            "Epoch 94/100\n",
            "286/286 [==============================] - 3s 10ms/step - loss: 0.0028\n",
            "Epoch 95/100\n",
            "286/286 [==============================] - 3s 10ms/step - loss: 0.0020\n",
            "Epoch 96/100\n",
            "286/286 [==============================] - 3s 10ms/step - loss: 0.0027\n",
            "Epoch 97/100\n",
            "286/286 [==============================] - 3s 10ms/step - loss: 0.0030\n",
            "Epoch 98/100\n",
            "286/286 [==============================] - 3s 10ms/step - loss: 0.0027\n",
            "Epoch 99/100\n",
            "286/286 [==============================] - 3s 10ms/step - loss: 0.0021\n",
            "Epoch 100/100\n",
            "286/286 [==============================] - 3s 10ms/step - loss: 0.0026\n"
          ],
          "name": "stdout"
        },
        {
          "output_type": "execute_result",
          "data": {
            "text/plain": [
              "<tensorflow.python.keras.callbacks.History at 0x7f36478226d8>"
            ]
          },
          "metadata": {
            "tags": []
          },
          "execution_count": 321
        }
      ]
    },
    {
      "cell_type": "code",
      "metadata": {
        "colab": {
          "base_uri": "https://localhost:8080/",
          "height": 1000
        },
        "id": "-l2Nd2CiMhfm",
        "outputId": "d25adcf6-c618-4b91-92c6-ac66f0aae2c7"
      },
      "source": [
        "from keras.models import Sequential\r\n",
        "from keras.layers import LSTM,Dense ,Dropout, Bidirectional, Activation, GRU\r\n",
        "regressor = Sequential()\r\n",
        "regressor.add(GRU(units=3, return_sequences=True, input_shape = (x_train.shape[1],1)))\r\n",
        "regressor.add(Dense(units = n_future,activation='sigmoid'))\r\n",
        "regressor.compile(optimizer='adam', loss='mean_squared_error',metrics=['acc'])\r\n",
        "regressor.fit(x_train, y_train, epochs=500,batch_size=32 )"
      ],
      "execution_count": 135,
      "outputs": [
        {
          "output_type": "stream",
          "text": [
            "Epoch 1/500\n"
          ],
          "name": "stdout"
        },
        {
          "output_type": "error",
          "ename": "ValueError",
          "evalue": "ignored",
          "traceback": [
            "\u001b[0;31m---------------------------------------------------------------------------\u001b[0m",
            "\u001b[0;31mValueError\u001b[0m                                Traceback (most recent call last)",
            "\u001b[0;32m<ipython-input-135-c56dc50a0832>\u001b[0m in \u001b[0;36m<module>\u001b[0;34m()\u001b[0m\n\u001b[1;32m      6\u001b[0m \u001b[0;34m\u001b[0m\u001b[0m\n\u001b[1;32m      7\u001b[0m \u001b[0mregressor\u001b[0m\u001b[0;34m.\u001b[0m\u001b[0mcompile\u001b[0m\u001b[0;34m(\u001b[0m\u001b[0moptimizer\u001b[0m\u001b[0;34m=\u001b[0m\u001b[0;34m'adam'\u001b[0m\u001b[0;34m,\u001b[0m \u001b[0mloss\u001b[0m\u001b[0;34m=\u001b[0m\u001b[0;34m'mean_squared_error'\u001b[0m\u001b[0;34m,\u001b[0m\u001b[0mmetrics\u001b[0m\u001b[0;34m=\u001b[0m\u001b[0;34m[\u001b[0m\u001b[0;34m'acc'\u001b[0m\u001b[0;34m]\u001b[0m\u001b[0;34m)\u001b[0m\u001b[0;34m\u001b[0m\u001b[0;34m\u001b[0m\u001b[0m\n\u001b[0;32m----> 8\u001b[0;31m \u001b[0mregressor\u001b[0m\u001b[0;34m.\u001b[0m\u001b[0mfit\u001b[0m\u001b[0;34m(\u001b[0m\u001b[0mx_train\u001b[0m\u001b[0;34m,\u001b[0m \u001b[0my_train\u001b[0m\u001b[0;34m,\u001b[0m \u001b[0mepochs\u001b[0m\u001b[0;34m=\u001b[0m\u001b[0;36m500\u001b[0m\u001b[0;34m,\u001b[0m\u001b[0mbatch_size\u001b[0m\u001b[0;34m=\u001b[0m\u001b[0;36m32\u001b[0m \u001b[0;34m)\u001b[0m\u001b[0;34m\u001b[0m\u001b[0;34m\u001b[0m\u001b[0m\n\u001b[0m",
            "\u001b[0;32m/usr/local/lib/python3.6/dist-packages/tensorflow/python/keras/engine/training.py\u001b[0m in \u001b[0;36mfit\u001b[0;34m(self, x, y, batch_size, epochs, verbose, callbacks, validation_split, validation_data, shuffle, class_weight, sample_weight, initial_epoch, steps_per_epoch, validation_steps, validation_batch_size, validation_freq, max_queue_size, workers, use_multiprocessing)\u001b[0m\n\u001b[1;32m   1098\u001b[0m                 _r=1):\n\u001b[1;32m   1099\u001b[0m               \u001b[0mcallbacks\u001b[0m\u001b[0;34m.\u001b[0m\u001b[0mon_train_batch_begin\u001b[0m\u001b[0;34m(\u001b[0m\u001b[0mstep\u001b[0m\u001b[0;34m)\u001b[0m\u001b[0;34m\u001b[0m\u001b[0;34m\u001b[0m\u001b[0m\n\u001b[0;32m-> 1100\u001b[0;31m               \u001b[0mtmp_logs\u001b[0m \u001b[0;34m=\u001b[0m \u001b[0mself\u001b[0m\u001b[0;34m.\u001b[0m\u001b[0mtrain_function\u001b[0m\u001b[0;34m(\u001b[0m\u001b[0miterator\u001b[0m\u001b[0;34m)\u001b[0m\u001b[0;34m\u001b[0m\u001b[0;34m\u001b[0m\u001b[0m\n\u001b[0m\u001b[1;32m   1101\u001b[0m               \u001b[0;32mif\u001b[0m \u001b[0mdata_handler\u001b[0m\u001b[0;34m.\u001b[0m\u001b[0mshould_sync\u001b[0m\u001b[0;34m:\u001b[0m\u001b[0;34m\u001b[0m\u001b[0;34m\u001b[0m\u001b[0m\n\u001b[1;32m   1102\u001b[0m                 \u001b[0mcontext\u001b[0m\u001b[0;34m.\u001b[0m\u001b[0masync_wait\u001b[0m\u001b[0;34m(\u001b[0m\u001b[0;34m)\u001b[0m\u001b[0;34m\u001b[0m\u001b[0;34m\u001b[0m\u001b[0m\n",
            "\u001b[0;32m/usr/local/lib/python3.6/dist-packages/tensorflow/python/eager/def_function.py\u001b[0m in \u001b[0;36m__call__\u001b[0;34m(self, *args, **kwds)\u001b[0m\n\u001b[1;32m    826\u001b[0m     \u001b[0mtracing_count\u001b[0m \u001b[0;34m=\u001b[0m \u001b[0mself\u001b[0m\u001b[0;34m.\u001b[0m\u001b[0mexperimental_get_tracing_count\u001b[0m\u001b[0;34m(\u001b[0m\u001b[0;34m)\u001b[0m\u001b[0;34m\u001b[0m\u001b[0;34m\u001b[0m\u001b[0m\n\u001b[1;32m    827\u001b[0m     \u001b[0;32mwith\u001b[0m \u001b[0mtrace\u001b[0m\u001b[0;34m.\u001b[0m\u001b[0mTrace\u001b[0m\u001b[0;34m(\u001b[0m\u001b[0mself\u001b[0m\u001b[0;34m.\u001b[0m\u001b[0m_name\u001b[0m\u001b[0;34m)\u001b[0m \u001b[0;32mas\u001b[0m \u001b[0mtm\u001b[0m\u001b[0;34m:\u001b[0m\u001b[0;34m\u001b[0m\u001b[0;34m\u001b[0m\u001b[0m\n\u001b[0;32m--> 828\u001b[0;31m       \u001b[0mresult\u001b[0m \u001b[0;34m=\u001b[0m \u001b[0mself\u001b[0m\u001b[0;34m.\u001b[0m\u001b[0m_call\u001b[0m\u001b[0;34m(\u001b[0m\u001b[0;34m*\u001b[0m\u001b[0margs\u001b[0m\u001b[0;34m,\u001b[0m \u001b[0;34m**\u001b[0m\u001b[0mkwds\u001b[0m\u001b[0;34m)\u001b[0m\u001b[0;34m\u001b[0m\u001b[0;34m\u001b[0m\u001b[0m\n\u001b[0m\u001b[1;32m    829\u001b[0m       \u001b[0mcompiler\u001b[0m \u001b[0;34m=\u001b[0m \u001b[0;34m\"xla\"\u001b[0m \u001b[0;32mif\u001b[0m \u001b[0mself\u001b[0m\u001b[0;34m.\u001b[0m\u001b[0m_experimental_compile\u001b[0m \u001b[0;32melse\u001b[0m \u001b[0;34m\"nonXla\"\u001b[0m\u001b[0;34m\u001b[0m\u001b[0;34m\u001b[0m\u001b[0m\n\u001b[1;32m    830\u001b[0m       \u001b[0mnew_tracing_count\u001b[0m \u001b[0;34m=\u001b[0m \u001b[0mself\u001b[0m\u001b[0;34m.\u001b[0m\u001b[0mexperimental_get_tracing_count\u001b[0m\u001b[0;34m(\u001b[0m\u001b[0;34m)\u001b[0m\u001b[0;34m\u001b[0m\u001b[0;34m\u001b[0m\u001b[0m\n",
            "\u001b[0;32m/usr/local/lib/python3.6/dist-packages/tensorflow/python/eager/def_function.py\u001b[0m in \u001b[0;36m_call\u001b[0;34m(self, *args, **kwds)\u001b[0m\n\u001b[1;32m    869\u001b[0m       \u001b[0;31m# This is the first call of __call__, so we have to initialize.\u001b[0m\u001b[0;34m\u001b[0m\u001b[0;34m\u001b[0m\u001b[0;34m\u001b[0m\u001b[0m\n\u001b[1;32m    870\u001b[0m       \u001b[0minitializers\u001b[0m \u001b[0;34m=\u001b[0m \u001b[0;34m[\u001b[0m\u001b[0;34m]\u001b[0m\u001b[0;34m\u001b[0m\u001b[0;34m\u001b[0m\u001b[0m\n\u001b[0;32m--> 871\u001b[0;31m       \u001b[0mself\u001b[0m\u001b[0;34m.\u001b[0m\u001b[0m_initialize\u001b[0m\u001b[0;34m(\u001b[0m\u001b[0margs\u001b[0m\u001b[0;34m,\u001b[0m \u001b[0mkwds\u001b[0m\u001b[0;34m,\u001b[0m \u001b[0madd_initializers_to\u001b[0m\u001b[0;34m=\u001b[0m\u001b[0minitializers\u001b[0m\u001b[0;34m)\u001b[0m\u001b[0;34m\u001b[0m\u001b[0;34m\u001b[0m\u001b[0m\n\u001b[0m\u001b[1;32m    872\u001b[0m     \u001b[0;32mfinally\u001b[0m\u001b[0;34m:\u001b[0m\u001b[0;34m\u001b[0m\u001b[0;34m\u001b[0m\u001b[0m\n\u001b[1;32m    873\u001b[0m       \u001b[0;31m# At this point we know that the initialization is complete (or less\u001b[0m\u001b[0;34m\u001b[0m\u001b[0;34m\u001b[0m\u001b[0;34m\u001b[0m\u001b[0m\n",
            "\u001b[0;32m/usr/local/lib/python3.6/dist-packages/tensorflow/python/eager/def_function.py\u001b[0m in \u001b[0;36m_initialize\u001b[0;34m(self, args, kwds, add_initializers_to)\u001b[0m\n\u001b[1;32m    724\u001b[0m     self._concrete_stateful_fn = (\n\u001b[1;32m    725\u001b[0m         self._stateful_fn._get_concrete_function_internal_garbage_collected(  # pylint: disable=protected-access\n\u001b[0;32m--> 726\u001b[0;31m             *args, **kwds))\n\u001b[0m\u001b[1;32m    727\u001b[0m \u001b[0;34m\u001b[0m\u001b[0m\n\u001b[1;32m    728\u001b[0m     \u001b[0;32mdef\u001b[0m \u001b[0minvalid_creator_scope\u001b[0m\u001b[0;34m(\u001b[0m\u001b[0;34m*\u001b[0m\u001b[0munused_args\u001b[0m\u001b[0;34m,\u001b[0m \u001b[0;34m**\u001b[0m\u001b[0munused_kwds\u001b[0m\u001b[0;34m)\u001b[0m\u001b[0;34m:\u001b[0m\u001b[0;34m\u001b[0m\u001b[0;34m\u001b[0m\u001b[0m\n",
            "\u001b[0;32m/usr/local/lib/python3.6/dist-packages/tensorflow/python/eager/function.py\u001b[0m in \u001b[0;36m_get_concrete_function_internal_garbage_collected\u001b[0;34m(self, *args, **kwargs)\u001b[0m\n\u001b[1;32m   2967\u001b[0m       \u001b[0margs\u001b[0m\u001b[0;34m,\u001b[0m \u001b[0mkwargs\u001b[0m \u001b[0;34m=\u001b[0m \u001b[0;32mNone\u001b[0m\u001b[0;34m,\u001b[0m \u001b[0;32mNone\u001b[0m\u001b[0;34m\u001b[0m\u001b[0;34m\u001b[0m\u001b[0m\n\u001b[1;32m   2968\u001b[0m     \u001b[0;32mwith\u001b[0m \u001b[0mself\u001b[0m\u001b[0;34m.\u001b[0m\u001b[0m_lock\u001b[0m\u001b[0;34m:\u001b[0m\u001b[0;34m\u001b[0m\u001b[0;34m\u001b[0m\u001b[0m\n\u001b[0;32m-> 2969\u001b[0;31m       \u001b[0mgraph_function\u001b[0m\u001b[0;34m,\u001b[0m \u001b[0m_\u001b[0m \u001b[0;34m=\u001b[0m \u001b[0mself\u001b[0m\u001b[0;34m.\u001b[0m\u001b[0m_maybe_define_function\u001b[0m\u001b[0;34m(\u001b[0m\u001b[0margs\u001b[0m\u001b[0;34m,\u001b[0m \u001b[0mkwargs\u001b[0m\u001b[0;34m)\u001b[0m\u001b[0;34m\u001b[0m\u001b[0;34m\u001b[0m\u001b[0m\n\u001b[0m\u001b[1;32m   2970\u001b[0m     \u001b[0;32mreturn\u001b[0m \u001b[0mgraph_function\u001b[0m\u001b[0;34m\u001b[0m\u001b[0;34m\u001b[0m\u001b[0m\n\u001b[1;32m   2971\u001b[0m \u001b[0;34m\u001b[0m\u001b[0m\n",
            "\u001b[0;32m/usr/local/lib/python3.6/dist-packages/tensorflow/python/eager/function.py\u001b[0m in \u001b[0;36m_maybe_define_function\u001b[0;34m(self, args, kwargs)\u001b[0m\n\u001b[1;32m   3359\u001b[0m \u001b[0;34m\u001b[0m\u001b[0m\n\u001b[1;32m   3360\u001b[0m           \u001b[0mself\u001b[0m\u001b[0;34m.\u001b[0m\u001b[0m_function_cache\u001b[0m\u001b[0;34m.\u001b[0m\u001b[0mmissed\u001b[0m\u001b[0;34m.\u001b[0m\u001b[0madd\u001b[0m\u001b[0;34m(\u001b[0m\u001b[0mcall_context_key\u001b[0m\u001b[0;34m)\u001b[0m\u001b[0;34m\u001b[0m\u001b[0;34m\u001b[0m\u001b[0m\n\u001b[0;32m-> 3361\u001b[0;31m           \u001b[0mgraph_function\u001b[0m \u001b[0;34m=\u001b[0m \u001b[0mself\u001b[0m\u001b[0;34m.\u001b[0m\u001b[0m_create_graph_function\u001b[0m\u001b[0;34m(\u001b[0m\u001b[0margs\u001b[0m\u001b[0;34m,\u001b[0m \u001b[0mkwargs\u001b[0m\u001b[0;34m)\u001b[0m\u001b[0;34m\u001b[0m\u001b[0;34m\u001b[0m\u001b[0m\n\u001b[0m\u001b[1;32m   3362\u001b[0m           \u001b[0mself\u001b[0m\u001b[0;34m.\u001b[0m\u001b[0m_function_cache\u001b[0m\u001b[0;34m.\u001b[0m\u001b[0mprimary\u001b[0m\u001b[0;34m[\u001b[0m\u001b[0mcache_key\u001b[0m\u001b[0;34m]\u001b[0m \u001b[0;34m=\u001b[0m \u001b[0mgraph_function\u001b[0m\u001b[0;34m\u001b[0m\u001b[0;34m\u001b[0m\u001b[0m\n\u001b[1;32m   3363\u001b[0m \u001b[0;34m\u001b[0m\u001b[0m\n",
            "\u001b[0;32m/usr/local/lib/python3.6/dist-packages/tensorflow/python/eager/function.py\u001b[0m in \u001b[0;36m_create_graph_function\u001b[0;34m(self, args, kwargs, override_flat_arg_shapes)\u001b[0m\n\u001b[1;32m   3204\u001b[0m             \u001b[0marg_names\u001b[0m\u001b[0;34m=\u001b[0m\u001b[0marg_names\u001b[0m\u001b[0;34m,\u001b[0m\u001b[0;34m\u001b[0m\u001b[0;34m\u001b[0m\u001b[0m\n\u001b[1;32m   3205\u001b[0m             \u001b[0moverride_flat_arg_shapes\u001b[0m\u001b[0;34m=\u001b[0m\u001b[0moverride_flat_arg_shapes\u001b[0m\u001b[0;34m,\u001b[0m\u001b[0;34m\u001b[0m\u001b[0;34m\u001b[0m\u001b[0m\n\u001b[0;32m-> 3206\u001b[0;31m             capture_by_value=self._capture_by_value),\n\u001b[0m\u001b[1;32m   3207\u001b[0m         \u001b[0mself\u001b[0m\u001b[0;34m.\u001b[0m\u001b[0m_function_attributes\u001b[0m\u001b[0;34m,\u001b[0m\u001b[0;34m\u001b[0m\u001b[0;34m\u001b[0m\u001b[0m\n\u001b[1;32m   3208\u001b[0m         \u001b[0mfunction_spec\u001b[0m\u001b[0;34m=\u001b[0m\u001b[0mself\u001b[0m\u001b[0;34m.\u001b[0m\u001b[0mfunction_spec\u001b[0m\u001b[0;34m,\u001b[0m\u001b[0;34m\u001b[0m\u001b[0;34m\u001b[0m\u001b[0m\n",
            "\u001b[0;32m/usr/local/lib/python3.6/dist-packages/tensorflow/python/framework/func_graph.py\u001b[0m in \u001b[0;36mfunc_graph_from_py_func\u001b[0;34m(name, python_func, args, kwargs, signature, func_graph, autograph, autograph_options, add_control_dependencies, arg_names, op_return_value, collections, capture_by_value, override_flat_arg_shapes)\u001b[0m\n\u001b[1;32m    988\u001b[0m         \u001b[0m_\u001b[0m\u001b[0;34m,\u001b[0m \u001b[0moriginal_func\u001b[0m \u001b[0;34m=\u001b[0m \u001b[0mtf_decorator\u001b[0m\u001b[0;34m.\u001b[0m\u001b[0munwrap\u001b[0m\u001b[0;34m(\u001b[0m\u001b[0mpython_func\u001b[0m\u001b[0;34m)\u001b[0m\u001b[0;34m\u001b[0m\u001b[0;34m\u001b[0m\u001b[0m\n\u001b[1;32m    989\u001b[0m \u001b[0;34m\u001b[0m\u001b[0m\n\u001b[0;32m--> 990\u001b[0;31m       \u001b[0mfunc_outputs\u001b[0m \u001b[0;34m=\u001b[0m \u001b[0mpython_func\u001b[0m\u001b[0;34m(\u001b[0m\u001b[0;34m*\u001b[0m\u001b[0mfunc_args\u001b[0m\u001b[0;34m,\u001b[0m \u001b[0;34m**\u001b[0m\u001b[0mfunc_kwargs\u001b[0m\u001b[0;34m)\u001b[0m\u001b[0;34m\u001b[0m\u001b[0;34m\u001b[0m\u001b[0m\n\u001b[0m\u001b[1;32m    991\u001b[0m \u001b[0;34m\u001b[0m\u001b[0m\n\u001b[1;32m    992\u001b[0m       \u001b[0;31m# invariant: `func_outputs` contains only Tensors, CompositeTensors,\u001b[0m\u001b[0;34m\u001b[0m\u001b[0;34m\u001b[0m\u001b[0;34m\u001b[0m\u001b[0m\n",
            "\u001b[0;32m/usr/local/lib/python3.6/dist-packages/tensorflow/python/eager/def_function.py\u001b[0m in \u001b[0;36mwrapped_fn\u001b[0;34m(*args, **kwds)\u001b[0m\n\u001b[1;32m    632\u001b[0m             \u001b[0mxla_context\u001b[0m\u001b[0;34m.\u001b[0m\u001b[0mExit\u001b[0m\u001b[0;34m(\u001b[0m\u001b[0;34m)\u001b[0m\u001b[0;34m\u001b[0m\u001b[0;34m\u001b[0m\u001b[0m\n\u001b[1;32m    633\u001b[0m         \u001b[0;32melse\u001b[0m\u001b[0;34m:\u001b[0m\u001b[0;34m\u001b[0m\u001b[0;34m\u001b[0m\u001b[0m\n\u001b[0;32m--> 634\u001b[0;31m           \u001b[0mout\u001b[0m \u001b[0;34m=\u001b[0m \u001b[0mweak_wrapped_fn\u001b[0m\u001b[0;34m(\u001b[0m\u001b[0;34m)\u001b[0m\u001b[0;34m.\u001b[0m\u001b[0m__wrapped__\u001b[0m\u001b[0;34m(\u001b[0m\u001b[0;34m*\u001b[0m\u001b[0margs\u001b[0m\u001b[0;34m,\u001b[0m \u001b[0;34m**\u001b[0m\u001b[0mkwds\u001b[0m\u001b[0;34m)\u001b[0m\u001b[0;34m\u001b[0m\u001b[0;34m\u001b[0m\u001b[0m\n\u001b[0m\u001b[1;32m    635\u001b[0m         \u001b[0;32mreturn\u001b[0m \u001b[0mout\u001b[0m\u001b[0;34m\u001b[0m\u001b[0;34m\u001b[0m\u001b[0m\n\u001b[1;32m    636\u001b[0m \u001b[0;34m\u001b[0m\u001b[0m\n",
            "\u001b[0;32m/usr/local/lib/python3.6/dist-packages/tensorflow/python/framework/func_graph.py\u001b[0m in \u001b[0;36mwrapper\u001b[0;34m(*args, **kwargs)\u001b[0m\n\u001b[1;32m    975\u001b[0m           \u001b[0;32mexcept\u001b[0m \u001b[0mException\u001b[0m \u001b[0;32mas\u001b[0m \u001b[0me\u001b[0m\u001b[0;34m:\u001b[0m  \u001b[0;31m# pylint:disable=broad-except\u001b[0m\u001b[0;34m\u001b[0m\u001b[0;34m\u001b[0m\u001b[0m\n\u001b[1;32m    976\u001b[0m             \u001b[0;32mif\u001b[0m \u001b[0mhasattr\u001b[0m\u001b[0;34m(\u001b[0m\u001b[0me\u001b[0m\u001b[0;34m,\u001b[0m \u001b[0;34m\"ag_error_metadata\"\u001b[0m\u001b[0;34m)\u001b[0m\u001b[0;34m:\u001b[0m\u001b[0;34m\u001b[0m\u001b[0;34m\u001b[0m\u001b[0m\n\u001b[0;32m--> 977\u001b[0;31m               \u001b[0;32mraise\u001b[0m \u001b[0me\u001b[0m\u001b[0;34m.\u001b[0m\u001b[0mag_error_metadata\u001b[0m\u001b[0;34m.\u001b[0m\u001b[0mto_exception\u001b[0m\u001b[0;34m(\u001b[0m\u001b[0me\u001b[0m\u001b[0;34m)\u001b[0m\u001b[0;34m\u001b[0m\u001b[0;34m\u001b[0m\u001b[0m\n\u001b[0m\u001b[1;32m    978\u001b[0m             \u001b[0;32melse\u001b[0m\u001b[0;34m:\u001b[0m\u001b[0;34m\u001b[0m\u001b[0;34m\u001b[0m\u001b[0m\n\u001b[1;32m    979\u001b[0m               \u001b[0;32mraise\u001b[0m\u001b[0;34m\u001b[0m\u001b[0;34m\u001b[0m\u001b[0m\n",
            "\u001b[0;31mValueError\u001b[0m: in user code:\n\n    /usr/local/lib/python3.6/dist-packages/tensorflow/python/keras/engine/training.py:805 train_function  *\n        return step_function(self, iterator)\n    /usr/local/lib/python3.6/dist-packages/tensorflow/python/keras/engine/training.py:795 step_function  **\n        outputs = model.distribute_strategy.run(run_step, args=(data,))\n    /usr/local/lib/python3.6/dist-packages/tensorflow/python/distribute/distribute_lib.py:1259 run\n        return self._extended.call_for_each_replica(fn, args=args, kwargs=kwargs)\n    /usr/local/lib/python3.6/dist-packages/tensorflow/python/distribute/distribute_lib.py:2730 call_for_each_replica\n        return self._call_for_each_replica(fn, args, kwargs)\n    /usr/local/lib/python3.6/dist-packages/tensorflow/python/distribute/distribute_lib.py:3417 _call_for_each_replica\n        return fn(*args, **kwargs)\n    /usr/local/lib/python3.6/dist-packages/tensorflow/python/keras/engine/training.py:788 run_step  **\n        outputs = model.train_step(data)\n    /usr/local/lib/python3.6/dist-packages/tensorflow/python/keras/engine/training.py:756 train_step\n        y, y_pred, sample_weight, regularization_losses=self.losses)\n    /usr/local/lib/python3.6/dist-packages/tensorflow/python/keras/engine/compile_utils.py:203 __call__\n        loss_value = loss_obj(y_t, y_p, sample_weight=sw)\n    /usr/local/lib/python3.6/dist-packages/tensorflow/python/keras/losses.py:152 __call__\n        losses = call_fn(y_true, y_pred)\n    /usr/local/lib/python3.6/dist-packages/tensorflow/python/keras/losses.py:256 call  **\n        return ag_fn(y_true, y_pred, **self._fn_kwargs)\n    /usr/local/lib/python3.6/dist-packages/tensorflow/python/util/dispatch.py:201 wrapper\n        return target(*args, **kwargs)\n    /usr/local/lib/python3.6/dist-packages/tensorflow/python/keras/losses.py:1198 mean_squared_error\n        return K.mean(math_ops.squared_difference(y_pred, y_true), axis=-1)\n    /usr/local/lib/python3.6/dist-packages/tensorflow/python/ops/gen_math_ops.py:10251 squared_difference\n        \"SquaredDifference\", x=x, y=y, name=name)\n    /usr/local/lib/python3.6/dist-packages/tensorflow/python/framework/op_def_library.py:750 _apply_op_helper\n        attrs=attr_protos, op_def=op_def)\n    /usr/local/lib/python3.6/dist-packages/tensorflow/python/framework/func_graph.py:592 _create_op_internal\n        compute_device)\n    /usr/local/lib/python3.6/dist-packages/tensorflow/python/framework/ops.py:3536 _create_op_internal\n        op_def=op_def)\n    /usr/local/lib/python3.6/dist-packages/tensorflow/python/framework/ops.py:2016 __init__\n        control_input_ops, op_def)\n    /usr/local/lib/python3.6/dist-packages/tensorflow/python/framework/ops.py:1856 _create_c_op\n        raise ValueError(str(e))\n\n    ValueError: Dimensions must be equal, but are 7 and 3 for '{{node mean_squared_error/SquaredDifference}} = SquaredDifference[T=DT_FLOAT](sequential_24/gru_32/transpose_1, IteratorGetNext:1)' with input shapes: [?,7,7], [?,3].\n"
          ]
        }
      ]
    },
    {
      "cell_type": "code",
      "metadata": {
        "id": "70OppSlJOwtc"
      },
      "source": [
        "lstm_layer1 = GRU(units=7, return_sequences=True, input_shape = (x_train.shape[1],1))"
      ],
      "execution_count": 101,
      "outputs": []
    },
    {
      "cell_type": "code",
      "metadata": {
        "id": "u9dSuBt-O1Ge"
      },
      "source": [
        "x1 = lstm_layer1(x_train)"
      ],
      "execution_count": 114,
      "outputs": []
    },
    {
      "cell_type": "code",
      "metadata": {
        "id": "8cozla6hPBg-"
      },
      "source": [
        "lstm_layer2 = GRU(units=7, return_sequences=True, input_shape = (x_train.shape[1],7))"
      ],
      "execution_count": 105,
      "outputs": []
    },
    {
      "cell_type": "code",
      "metadata": {
        "id": "PrGwia0ZPFP8"
      },
      "source": [
        "x1 = lstm_layer2(x1)"
      ],
      "execution_count": 115,
      "outputs": []
    },
    {
      "cell_type": "code",
      "metadata": {
        "id": "oQwbZzUJPNiB"
      },
      "source": [
        "layer3 = Dense(units = n_future,activation='relu')"
      ],
      "execution_count": 110,
      "outputs": []
    },
    {
      "cell_type": "code",
      "metadata": {
        "colab": {
          "base_uri": "https://localhost:8080/"
        },
        "id": "kKmx7PAiPh13",
        "outputId": "464c8ea0-e16d-4f60-fbc7-30bc84a202b7"
      },
      "source": [
        "x1.shape"
      ],
      "execution_count": 117,
      "outputs": [
        {
          "output_type": "execute_result",
          "data": {
            "text/plain": [
              "TensorShape([9123, 7, 7])"
            ]
          },
          "metadata": {
            "tags": []
          },
          "execution_count": 117
        }
      ]
    },
    {
      "cell_type": "code",
      "metadata": {
        "id": "8ILrfWAOPPNJ"
      },
      "source": [
        "x1 = layer3(x1)"
      ],
      "execution_count": 119,
      "outputs": []
    },
    {
      "cell_type": "code",
      "metadata": {
        "id": "ScdSyKdTPwgI"
      },
      "source": [
        "layer4 = Dense(units = n_future,activation='sigmoid')"
      ],
      "execution_count": 120,
      "outputs": []
    },
    {
      "cell_type": "code",
      "metadata": {
        "id": "tdOt5QNUPR0T"
      },
      "source": [
        "layer4(x1)"
      ],
      "execution_count": null,
      "outputs": []
    },
    {
      "cell_type": "code",
      "metadata": {
        "colab": {
          "base_uri": "https://localhost:8080/"
        },
        "id": "ujRGimdLQBYC",
        "outputId": "cff7e10d-cad6-4fd8-fb23-db0a006a748f"
      },
      "source": [
        "x_train.shape"
      ],
      "execution_count": 124,
      "outputs": [
        {
          "output_type": "execute_result",
          "data": {
            "text/plain": [
              "(9123, 7, 1)"
            ]
          },
          "metadata": {
            "tags": []
          },
          "execution_count": 124
        }
      ]
    },
    {
      "cell_type": "code",
      "metadata": {
        "colab": {
          "base_uri": "https://localhost:8080/"
        },
        "id": "zqsqHGHycUd8",
        "outputId": "e67223d8-17c0-4bf4-ad9e-051d4819b8f9"
      },
      "source": [
        "dataset_test = pd.read_csv('city_temperature.csv')\r\n",
        "ds = dataset_test.loc[(dataset_test.City == 'Moscow') & (dataset_test.Year == 2020)].iloc[:,7:8].round(3)\r\n",
        "training_set_scaled = sc.fit_transform(dataset_test.loc[(dataset_test.City == 'Moscow') & (dataset_test.Year == 2020)].iloc[:,7:8].round(3))[0:132]"
      ],
      "execution_count": 368,
      "outputs": [
        {
          "output_type": "stream",
          "text": [
            "/usr/local/lib/python3.6/dist-packages/IPython/core/interactiveshell.py:2718: DtypeWarning: Columns (2) have mixed types.Specify dtype option on import or set low_memory=False.\n",
            "  interactivity=interactivity, compiler=compiler, result=result)\n"
          ],
          "name": "stderr"
        }
      ]
    },
    {
      "cell_type": "code",
      "metadata": {
        "id": "a3zWD9SmrNce"
      },
      "source": [
        "x_test = []\r\n",
        "for i in range(0,len(training_set_scaled)-n_past-n_future+1):\r\n",
        "    x_test.append(training_set_scaled[i : i + n_past , 0])     \r\n",
        "   \r\n",
        "x_test  = np.array(x_test)\r\n",
        "x_test = np.reshape(x_test, (x_test.shape[0] , x_test.shape[1], 1))"
      ],
      "execution_count": 371,
      "outputs": []
    },
    {
      "cell_type": "code",
      "metadata": {
        "colab": {
          "base_uri": "https://localhost:8080/"
        },
        "id": "2vrdxui8ko8d",
        "outputId": "219812cd-7066-44cb-ed99-d0530ec0b15c"
      },
      "source": [
        "x_test.shape"
      ],
      "execution_count": 372,
      "outputs": [
        {
          "output_type": "execute_result",
          "data": {
            "text/plain": [
              "(129, 3, 1)"
            ]
          },
          "metadata": {
            "tags": []
          },
          "execution_count": 372
        }
      ]
    },
    {
      "cell_type": "code",
      "metadata": {
        "colab": {
          "base_uri": "https://localhost:8080/"
        },
        "id": "Hjb7VU5urn23",
        "outputId": "3bf8e9b3-99be-4057-cfb5-5ac78e57d193"
      },
      "source": [
        "training_set_scaled.shape"
      ],
      "execution_count": 373,
      "outputs": [
        {
          "output_type": "execute_result",
          "data": {
            "text/plain": [
              "(132, 1)"
            ]
          },
          "metadata": {
            "tags": []
          },
          "execution_count": 373
        }
      ]
    },
    {
      "cell_type": "code",
      "metadata": {
        "id": "J3apc-xbfaZ9"
      },
      "source": [
        "training_set_scaled = training_set_scaled.reshape(-1,3,1)"
      ],
      "execution_count": 352,
      "outputs": []
    },
    {
      "cell_type": "code",
      "metadata": {
        "colab": {
          "base_uri": "https://localhost:8080/",
          "height": 419
        },
        "id": "xsrxb3SBeVRz",
        "outputId": "9eef9079-ebea-45c6-ca74-26b66ec16f76"
      },
      "source": [
        "dataset.loc[(dataset.City == 'Moscow') & (dataset.Year == 2020)]"
      ],
      "execution_count": 214,
      "outputs": [
        {
          "output_type": "execute_result",
          "data": {
            "text/html": [
              "<div>\n",
              "<style scoped>\n",
              "    .dataframe tbody tr th:only-of-type {\n",
              "        vertical-align: middle;\n",
              "    }\n",
              "\n",
              "    .dataframe tbody tr th {\n",
              "        vertical-align: top;\n",
              "    }\n",
              "\n",
              "    .dataframe thead th {\n",
              "        text-align: right;\n",
              "    }\n",
              "</style>\n",
              "<table border=\"1\" class=\"dataframe\">\n",
              "  <thead>\n",
              "    <tr style=\"text-align: right;\">\n",
              "      <th></th>\n",
              "      <th>Region</th>\n",
              "      <th>Country</th>\n",
              "      <th>State</th>\n",
              "      <th>City</th>\n",
              "      <th>Month</th>\n",
              "      <th>Day</th>\n",
              "      <th>Year</th>\n",
              "      <th>AvgTemperature</th>\n",
              "    </tr>\n",
              "  </thead>\n",
              "  <tbody>\n",
              "    <tr>\n",
              "      <th>887388</th>\n",
              "      <td>Europe</td>\n",
              "      <td>Russia</td>\n",
              "      <td>NaN</td>\n",
              "      <td>Moscow</td>\n",
              "      <td>1</td>\n",
              "      <td>1</td>\n",
              "      <td>2020</td>\n",
              "      <td>29.2</td>\n",
              "    </tr>\n",
              "    <tr>\n",
              "      <th>887389</th>\n",
              "      <td>Europe</td>\n",
              "      <td>Russia</td>\n",
              "      <td>NaN</td>\n",
              "      <td>Moscow</td>\n",
              "      <td>1</td>\n",
              "      <td>2</td>\n",
              "      <td>2020</td>\n",
              "      <td>32.3</td>\n",
              "    </tr>\n",
              "    <tr>\n",
              "      <th>887390</th>\n",
              "      <td>Europe</td>\n",
              "      <td>Russia</td>\n",
              "      <td>NaN</td>\n",
              "      <td>Moscow</td>\n",
              "      <td>1</td>\n",
              "      <td>3</td>\n",
              "      <td>2020</td>\n",
              "      <td>32.7</td>\n",
              "    </tr>\n",
              "    <tr>\n",
              "      <th>887391</th>\n",
              "      <td>Europe</td>\n",
              "      <td>Russia</td>\n",
              "      <td>NaN</td>\n",
              "      <td>Moscow</td>\n",
              "      <td>1</td>\n",
              "      <td>4</td>\n",
              "      <td>2020</td>\n",
              "      <td>30.1</td>\n",
              "    </tr>\n",
              "    <tr>\n",
              "      <th>887392</th>\n",
              "      <td>Europe</td>\n",
              "      <td>Russia</td>\n",
              "      <td>NaN</td>\n",
              "      <td>Moscow</td>\n",
              "      <td>1</td>\n",
              "      <td>5</td>\n",
              "      <td>2020</td>\n",
              "      <td>31.6</td>\n",
              "    </tr>\n",
              "    <tr>\n",
              "      <th>...</th>\n",
              "      <td>...</td>\n",
              "      <td>...</td>\n",
              "      <td>...</td>\n",
              "      <td>...</td>\n",
              "      <td>...</td>\n",
              "      <td>...</td>\n",
              "      <td>...</td>\n",
              "      <td>...</td>\n",
              "    </tr>\n",
              "    <tr>\n",
              "      <th>887517</th>\n",
              "      <td>Europe</td>\n",
              "      <td>Russia</td>\n",
              "      <td>NaN</td>\n",
              "      <td>Moscow</td>\n",
              "      <td>5</td>\n",
              "      <td>9</td>\n",
              "      <td>2020</td>\n",
              "      <td>52.7</td>\n",
              "    </tr>\n",
              "    <tr>\n",
              "      <th>887518</th>\n",
              "      <td>Europe</td>\n",
              "      <td>Russia</td>\n",
              "      <td>NaN</td>\n",
              "      <td>Moscow</td>\n",
              "      <td>5</td>\n",
              "      <td>10</td>\n",
              "      <td>2020</td>\n",
              "      <td>55.6</td>\n",
              "    </tr>\n",
              "    <tr>\n",
              "      <th>887519</th>\n",
              "      <td>Europe</td>\n",
              "      <td>Russia</td>\n",
              "      <td>NaN</td>\n",
              "      <td>Moscow</td>\n",
              "      <td>5</td>\n",
              "      <td>11</td>\n",
              "      <td>2020</td>\n",
              "      <td>59.5</td>\n",
              "    </tr>\n",
              "    <tr>\n",
              "      <th>887520</th>\n",
              "      <td>Europe</td>\n",
              "      <td>Russia</td>\n",
              "      <td>NaN</td>\n",
              "      <td>Moscow</td>\n",
              "      <td>5</td>\n",
              "      <td>12</td>\n",
              "      <td>2020</td>\n",
              "      <td>61.5</td>\n",
              "    </tr>\n",
              "    <tr>\n",
              "      <th>887521</th>\n",
              "      <td>Europe</td>\n",
              "      <td>Russia</td>\n",
              "      <td>NaN</td>\n",
              "      <td>Moscow</td>\n",
              "      <td>5</td>\n",
              "      <td>13</td>\n",
              "      <td>2020</td>\n",
              "      <td>36.0</td>\n",
              "    </tr>\n",
              "  </tbody>\n",
              "</table>\n",
              "<p>134 rows × 8 columns</p>\n",
              "</div>"
            ],
            "text/plain": [
              "        Region Country State    City  Month  Day  Year  AvgTemperature\n",
              "887388  Europe  Russia   NaN  Moscow      1    1  2020            29.2\n",
              "887389  Europe  Russia   NaN  Moscow      1    2  2020            32.3\n",
              "887390  Europe  Russia   NaN  Moscow      1    3  2020            32.7\n",
              "887391  Europe  Russia   NaN  Moscow      1    4  2020            30.1\n",
              "887392  Europe  Russia   NaN  Moscow      1    5  2020            31.6\n",
              "...        ...     ...   ...     ...    ...  ...   ...             ...\n",
              "887517  Europe  Russia   NaN  Moscow      5    9  2020            52.7\n",
              "887518  Europe  Russia   NaN  Moscow      5   10  2020            55.6\n",
              "887519  Europe  Russia   NaN  Moscow      5   11  2020            59.5\n",
              "887520  Europe  Russia   NaN  Moscow      5   12  2020            61.5\n",
              "887521  Europe  Russia   NaN  Moscow      5   13  2020            36.0\n",
              "\n",
              "[134 rows x 8 columns]"
            ]
          },
          "metadata": {
            "tags": []
          },
          "execution_count": 214
        }
      ]
    },
    {
      "cell_type": "code",
      "metadata": {
        "id": "sv9m4CimcTRR"
      },
      "source": [
        "predicted_temperature = regressor.predict(x_test)\r\n",
        "predicted_temperature = sc.inverse_transform(predicted_temperature)\r\n",
        "#predicted_temperature = np.reshape(predicted_temperature,(predicted_temperature.shape[1],predicted_temperature.shape[0]))"
      ],
      "execution_count": 376,
      "outputs": []
    },
    {
      "cell_type": "code",
      "metadata": {
        "id": "uOYVdL77fzZM"
      },
      "source": [
        "predicted_temperature = list(map(lambda x: x[2], predicted_temperature))"
      ],
      "execution_count": 279,
      "outputs": []
    },
    {
      "cell_type": "code",
      "metadata": {
        "colab": {
          "base_uri": "https://localhost:8080/"
        },
        "id": "h6t0QsRhjRa_",
        "outputId": "9f731634-fb04-41d9-84f9-d6404af6d96a"
      },
      "source": [
        "predicted_temperature.shape"
      ],
      "execution_count": 377,
      "outputs": [
        {
          "output_type": "execute_result",
          "data": {
            "text/plain": [
              "(129, 1)"
            ]
          },
          "metadata": {
            "tags": []
          },
          "execution_count": 377
        }
      ]
    },
    {
      "cell_type": "code",
      "metadata": {
        "colab": {
          "base_uri": "https://localhost:8080/"
        },
        "id": "0dKvULM2rxkp",
        "outputId": "ee9c69a3-d77e-441a-c374-938d99873c66"
      },
      "source": [
        "predicted_temperature"
      ],
      "execution_count": 378,
      "outputs": [
        {
          "output_type": "execute_result",
          "data": {
            "text/plain": [
              "array([[38.574146],\n",
              "       [37.89325 ],\n",
              "       [38.03286 ],\n",
              "       [37.931133],\n",
              "       [37.700974],\n",
              "       [38.313522],\n",
              "       [38.581017],\n",
              "       [38.271744],\n",
              "       [38.062763],\n",
              "       [37.401615],\n",
              "       [38.441223],\n",
              "       [38.71669 ],\n",
              "       [38.41022 ],\n",
              "       [39.101612],\n",
              "       [39.46768 ],\n",
              "       [38.083004],\n",
              "       [37.55575 ],\n",
              "       [38.58405 ],\n",
              "       [39.374912],\n",
              "       [38.080536],\n",
              "       [36.92093 ],\n",
              "       [37.73691 ],\n",
              "       [38.971687],\n",
              "       [38.283546],\n",
              "       [37.874252],\n",
              "       [37.332157],\n",
              "       [38.103493],\n",
              "       [38.74005 ],\n",
              "       [38.09351 ],\n",
              "       [37.861313],\n",
              "       [38.353706],\n",
              "       [38.80544 ],\n",
              "       [37.6056  ],\n",
              "       [36.953808],\n",
              "       [37.346584],\n",
              "       [37.42253 ],\n",
              "       [37.452415],\n",
              "       [38.494713],\n",
              "       [39.253284],\n",
              "       [38.64652 ],\n",
              "       [38.20551 ],\n",
              "       [37.530228],\n",
              "       [38.07408 ],\n",
              "       [38.322857],\n",
              "       [38.02985 ],\n",
              "       [39.69144 ],\n",
              "       [40.518147],\n",
              "       [39.338577],\n",
              "       [39.159172],\n",
              "       [38.779884],\n",
              "       [38.71676 ],\n",
              "       [38.341515],\n",
              "       [38.524136],\n",
              "       [37.9589  ],\n",
              "       [37.851418],\n",
              "       [38.71744 ],\n",
              "       [38.397926],\n",
              "       [37.67676 ],\n",
              "       [38.54597 ],\n",
              "       [39.526733],\n",
              "       [39.46831 ],\n",
              "       [40.1736  ],\n",
              "       [41.064117],\n",
              "       [40.995644],\n",
              "       [43.670986],\n",
              "       [42.86083 ],\n",
              "       [42.797585],\n",
              "       [42.704845],\n",
              "       [42.229313],\n",
              "       [42.201378],\n",
              "       [40.822468],\n",
              "       [37.86825 ],\n",
              "       [36.582977],\n",
              "       [37.800438],\n",
              "       [40.577526],\n",
              "       [42.404343],\n",
              "       [44.76669 ],\n",
              "       [39.642254],\n",
              "       [36.98813 ],\n",
              "       [37.210114],\n",
              "       [37.651554],\n",
              "       [38.217697],\n",
              "       [40.449417],\n",
              "       [44.96234 ],\n",
              "       [46.745926],\n",
              "       [49.975063],\n",
              "       [50.036804],\n",
              "       [37.516636],\n",
              "       [36.094807],\n",
              "       [37.776386],\n",
              "       [39.57919 ],\n",
              "       [42.852932],\n",
              "       [40.732864],\n",
              "       [37.714073],\n",
              "       [38.0508  ],\n",
              "       [40.29907 ],\n",
              "       [44.56828 ],\n",
              "       [48.16697 ],\n",
              "       [43.410896],\n",
              "       [38.15763 ],\n",
              "       [38.730476],\n",
              "       [46.62703 ],\n",
              "       [43.532497],\n",
              "       [38.431187],\n",
              "       [38.97081 ],\n",
              "       [39.240376],\n",
              "       [38.87305 ],\n",
              "       [39.323822],\n",
              "       [39.84065 ],\n",
              "       [41.703316],\n",
              "       [41.580544],\n",
              "       [41.8526  ],\n",
              "       [40.395462],\n",
              "       [40.596233],\n",
              "       [41.154217],\n",
              "       [42.304565],\n",
              "       [42.887817],\n",
              "       [47.140038],\n",
              "       [42.503796],\n",
              "       [44.540775],\n",
              "       [51.0127  ],\n",
              "       [58.666283],\n",
              "       [57.20869 ],\n",
              "       [58.797142],\n",
              "       [57.622272],\n",
              "       [55.784214],\n",
              "       [49.82036 ],\n",
              "       [51.528267],\n",
              "       [55.047787]], dtype=float32)"
            ]
          },
          "metadata": {
            "tags": []
          },
          "execution_count": 378
        }
      ]
    },
    {
      "cell_type": "code",
      "metadata": {
        "colab": {
          "base_uri": "https://localhost:8080/",
          "height": 299
        },
        "id": "JlYhdGdTf9U1",
        "outputId": "35227a3c-6f0f-43a3-87ba-54c2506db531"
      },
      "source": [
        "plt.plot(range(129), predicted_temperature, 'r', range(134), ds)"
      ],
      "execution_count": 384,
      "outputs": [
        {
          "output_type": "execute_result",
          "data": {
            "text/plain": [
              "[<matplotlib.lines.Line2D at 0x7f3616b848d0>,\n",
              " <matplotlib.lines.Line2D at 0x7f3616b849e8>]"
            ]
          },
          "metadata": {
            "tags": []
          },
          "execution_count": 384
        },
        {
          "output_type": "display_data",
          "data": {
            "image/png": "[encoded data removed]",
            "text/plain": [
              "<Figure size 432x288 with 1 Axes>"
            ]
          },
          "metadata": {
            "tags": [],
            "needs_background": "light"
          }
        }
      ]
    },
    {
      "cell_type": "code",
      "metadata": {
        "colab": {
          "base_uri": "https://localhost:8080/"
        },
        "id": "bvrxU9D8gBUL",
        "outputId": "0ba7dc23-0bdd-47f7-9d76-ce271302f479"
      },
      "source": [
        "!git init"
      ],
      "execution_count": 385,
      "outputs": [
        {
          "output_type": "stream",
          "text": [
            "Initialized empty Git repository in /content/weather/.git/\n"
          ],
          "name": "stdout"
        }
      ]
    },
    {
      "cell_type": "code",
      "metadata": {
        "id": "Ah7We-bysamK"
      },
      "source": [
        "!git add ."
      ],
      "execution_count": null,
      "outputs": []
    },
    {
      "cell_type": "code",
      "metadata": {
        "colab": {
          "base_uri": "https://localhost:8080/"
        },
        "id": "nMqf3KrWsJSE",
        "outputId": "582e53ce-360c-47a1-a33d-02c09bffa76f"
      },
      "source": [
        "!git commit -m \"Start experiments\""
      ],
      "execution_count": 389,
      "outputs": [
        {
          "output_type": "stream",
          "text": [
            "On branch master\n",
            "\n",
            "Initial commit\n",
            "\n",
            "Untracked files:\n",
            "\t\u001b[31mcity_temperature.csv\u001b[m\n",
            "\n",
            "nothing added to commit but untracked files present\n"
          ],
          "name": "stdout"
        }
      ]
    },
    {
      "cell_type": "code",
      "metadata": {
        "id": "2QKFJ8b2sRgs"
      },
      "source": [
        "!git config --global user.email \"andron@alexanyan.tech\""
      ],
      "execution_count": 387,
      "outputs": []
    },
    {
      "cell_type": "code",
      "metadata": {
        "id": "fH4FRkp_sVT8"
      },
      "source": [
        "!git config --global user.name \"andron23\""
      ],
      "execution_count": 388,
      "outputs": []
    },
    {
      "cell_type": "code",
      "metadata": {
        "id": "0i7fZhfgsXYs"
      },
      "source": [
        ""
      ],
      "execution_count": null,
      "outputs": []
    }
  ]
}